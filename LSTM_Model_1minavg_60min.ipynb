{
  "nbformat": 4,
  "nbformat_minor": 0,
  "metadata": {
    "colab": {
      "name": "LSTM_Model_1minavg_60min.ipynb",
      "provenance": [],
      "collapsed_sections": [],
      "include_colab_link": true
    },
    "kernelspec": {
      "name": "python3",
      "display_name": "Python 3"
    },
    "accelerator": "GPU"
  },
  "cells": [
    {
      "cell_type": "markdown",
      "metadata": {
        "id": "view-in-github",
        "colab_type": "text"
      },
      "source": [
        "<a href=\"https://colab.research.google.com/github/sameer1216/Projects/blob/master/LSTM_Model_1minavg_60min.ipynb\" target=\"_parent\"><img src=\"https://colab.research.google.com/assets/colab-badge.svg\" alt=\"Open In Colab\"/></a>"
      ]
    },
    {
      "cell_type": "code",
      "metadata": {
        "id": "zO_16biBU5zg",
        "colab_type": "code",
        "colab": {
          "base_uri": "https://localhost:8080/",
          "height": 125
        },
        "outputId": "4821ab7c-6884-4923-9554-19ce7786dc77"
      },
      "source": [
        "from google.colab import drive\n",
        "drive.mount('/content/drive',force_remount=True)"
      ],
      "execution_count": null,
      "outputs": [
        {
          "output_type": "stream",
          "text": [
            "Go to this URL in a browser: https://accounts.google.com/o/oauth2/auth?client_id=947318989803-6bn6qk8qdgf4n4g3pfee6491hc0brc4i.apps.googleusercontent.com&redirect_uri=urn%3aietf%3awg%3aoauth%3a2.0%3aoob&response_type=code&scope=email%20https%3a%2f%2fwww.googleapis.com%2fauth%2fdocs.test%20https%3a%2f%2fwww.googleapis.com%2fauth%2fdrive%20https%3a%2f%2fwww.googleapis.com%2fauth%2fdrive.photos.readonly%20https%3a%2f%2fwww.googleapis.com%2fauth%2fpeopleapi.readonly\n",
            "\n",
            "Enter your authorization code:\n",
            "··········\n",
            "Mounted at /content/drive\n"
          ],
          "name": "stdout"
        }
      ]
    },
    {
      "cell_type": "markdown",
      "metadata": {
        "id": "v0HqYwfeVjZz",
        "colab_type": "text"
      },
      "source": [
        "# 1. **Import Necessary packages**"
      ]
    },
    {
      "cell_type": "code",
      "metadata": {
        "id": "Ky9MbNjBVbC2",
        "colab_type": "code",
        "colab": {}
      },
      "source": [
        "import numpy as np\n",
        "import pandas as pd\n",
        "import matplotlib.pyplot as plt\n",
        "from pandas import Grouper\n",
        "from sklearn.svm import SVR\n",
        "from sklearn.model_selection import train_test_split\n",
        "from sklearn import metrics\n",
        "from sklearn.impute import KNNImputer"
      ],
      "execution_count": null,
      "outputs": []
    },
    {
      "cell_type": "markdown",
      "metadata": {
        "id": "7tZFSSbHW36E",
        "colab_type": "text"
      },
      "source": [
        "# **2. Read the Dataset**"
      ]
    },
    {
      "cell_type": "code",
      "metadata": {
        "id": "BP4yUJbpV9gi",
        "colab_type": "code",
        "colab": {}
      },
      "source": [
        "path_files = '/content/drive/My Drive/Co_lab/Capstone/1min_Average_Datasets/'\n",
        "november_df = pd.read_csv((path_files + '1 Walk-In 2019-11-1 2019-11-30.csv'), skiprows = [0,1,2,3,4,5,6,7,8,9,10], names = ['Date', 'Time', 'Zone', 'Temperature (F)'], \n",
        "                          skip_blank_lines = True, skipfooter = 1, engine = 'python')\n",
        "\n",
        "december_df = pd.read_csv((path_files + '1 Walk-In 2019-12-1 2019-12-31.csv'), skiprows = [0,1,2,3,4,5,6,7,8,9,10], names = ['Date', 'Time', 'Zone', 'Temperature (F)'], \n",
        "                          skip_blank_lines = True, skipfooter = 1, engine = 'python')\n",
        "\n",
        "jan_df =  pd.read_csv((path_files + '1 Walk-In 2020-1-1 2020-1-31.csv'), skiprows = [0,1,2,3,4,5,6,7,8,9,10], names = ['Date', 'Time', 'Zone', 'Temperature (F)'], \n",
        "                          skip_blank_lines = True, skipfooter = 1, engine = 'python')\n",
        "\n",
        "feb_df = pd.read_csv((path_files + '1 Walk-In 2020-2-1 2020-2-29.csv'), skiprows = [0,1,2,3,4,5,6,7,8,9,10], names = ['Date', 'Time', 'Zone', 'Temperature (F)'], \n",
        "                          skip_blank_lines = True, skipfooter = 1, engine = 'python')"
      ],
      "execution_count": null,
      "outputs": []
    },
    {
      "cell_type": "code",
      "metadata": {
        "id": "mkviIdA8YTAv",
        "colab_type": "code",
        "colab": {
          "base_uri": "https://localhost:8080/",
          "height": 197
        },
        "outputId": "8f0d9b91-fe91-4399-ccaf-4b4c5bbb28ab"
      },
      "source": [
        "november_df.head()"
      ],
      "execution_count": null,
      "outputs": [
        {
          "output_type": "execute_result",
          "data": {
            "text/html": [
              "<div>\n",
              "<style scoped>\n",
              "    .dataframe tbody tr th:only-of-type {\n",
              "        vertical-align: middle;\n",
              "    }\n",
              "\n",
              "    .dataframe tbody tr th {\n",
              "        vertical-align: top;\n",
              "    }\n",
              "\n",
              "    .dataframe thead th {\n",
              "        text-align: right;\n",
              "    }\n",
              "</style>\n",
              "<table border=\"1\" class=\"dataframe\">\n",
              "  <thead>\n",
              "    <tr style=\"text-align: right;\">\n",
              "      <th></th>\n",
              "      <th>Date</th>\n",
              "      <th>Time</th>\n",
              "      <th>Zone</th>\n",
              "      <th>Temperature (F)</th>\n",
              "    </tr>\n",
              "  </thead>\n",
              "  <tbody>\n",
              "    <tr>\n",
              "      <th>0</th>\n",
              "      <td>2019-11-04</td>\n",
              "      <td>16:50</td>\n",
              "      <td>EST</td>\n",
              "      <td>67.5</td>\n",
              "    </tr>\n",
              "    <tr>\n",
              "      <th>1</th>\n",
              "      <td>2019-11-04</td>\n",
              "      <td>16:51</td>\n",
              "      <td>EST</td>\n",
              "      <td>67.3</td>\n",
              "    </tr>\n",
              "    <tr>\n",
              "      <th>2</th>\n",
              "      <td>2019-11-04</td>\n",
              "      <td>16:52</td>\n",
              "      <td>EST</td>\n",
              "      <td>67.3</td>\n",
              "    </tr>\n",
              "    <tr>\n",
              "      <th>3</th>\n",
              "      <td>2019-11-04</td>\n",
              "      <td>16:53</td>\n",
              "      <td>EST</td>\n",
              "      <td>67.3</td>\n",
              "    </tr>\n",
              "    <tr>\n",
              "      <th>4</th>\n",
              "      <td>2019-11-04</td>\n",
              "      <td>16:54</td>\n",
              "      <td>EST</td>\n",
              "      <td>67.2</td>\n",
              "    </tr>\n",
              "  </tbody>\n",
              "</table>\n",
              "</div>"
            ],
            "text/plain": [
              "         Date   Time Zone  Temperature (F)\n",
              "0  2019-11-04  16:50  EST             67.5\n",
              "1  2019-11-04  16:51  EST             67.3\n",
              "2  2019-11-04  16:52  EST             67.3\n",
              "3  2019-11-04  16:53  EST             67.3\n",
              "4  2019-11-04  16:54  EST             67.2"
            ]
          },
          "metadata": {
            "tags": []
          },
          "execution_count": 4
        }
      ]
    },
    {
      "cell_type": "code",
      "metadata": {
        "id": "Zdbiz7Bit73q",
        "colab_type": "code",
        "colab": {
          "base_uri": "https://localhost:8080/",
          "height": 197
        },
        "outputId": "492e604b-b03b-43c1-b953-08cbfb769755"
      },
      "source": [
        "december_df.head()"
      ],
      "execution_count": null,
      "outputs": [
        {
          "output_type": "execute_result",
          "data": {
            "text/html": [
              "<div>\n",
              "<style scoped>\n",
              "    .dataframe tbody tr th:only-of-type {\n",
              "        vertical-align: middle;\n",
              "    }\n",
              "\n",
              "    .dataframe tbody tr th {\n",
              "        vertical-align: top;\n",
              "    }\n",
              "\n",
              "    .dataframe thead th {\n",
              "        text-align: right;\n",
              "    }\n",
              "</style>\n",
              "<table border=\"1\" class=\"dataframe\">\n",
              "  <thead>\n",
              "    <tr style=\"text-align: right;\">\n",
              "      <th></th>\n",
              "      <th>Date</th>\n",
              "      <th>Time</th>\n",
              "      <th>Zone</th>\n",
              "      <th>Temperature (F)</th>\n",
              "    </tr>\n",
              "  </thead>\n",
              "  <tbody>\n",
              "    <tr>\n",
              "      <th>0</th>\n",
              "      <td>2019-12-01</td>\n",
              "      <td>00:00</td>\n",
              "      <td>EST</td>\n",
              "      <td>39.6</td>\n",
              "    </tr>\n",
              "    <tr>\n",
              "      <th>1</th>\n",
              "      <td>2019-12-01</td>\n",
              "      <td>00:01</td>\n",
              "      <td>EST</td>\n",
              "      <td>39.4</td>\n",
              "    </tr>\n",
              "    <tr>\n",
              "      <th>2</th>\n",
              "      <td>2019-12-01</td>\n",
              "      <td>00:02</td>\n",
              "      <td>EST</td>\n",
              "      <td>39.4</td>\n",
              "    </tr>\n",
              "    <tr>\n",
              "      <th>3</th>\n",
              "      <td>2019-12-01</td>\n",
              "      <td>00:03</td>\n",
              "      <td>EST</td>\n",
              "      <td>39.4</td>\n",
              "    </tr>\n",
              "    <tr>\n",
              "      <th>4</th>\n",
              "      <td>2019-12-01</td>\n",
              "      <td>00:04</td>\n",
              "      <td>EST</td>\n",
              "      <td>39.0</td>\n",
              "    </tr>\n",
              "  </tbody>\n",
              "</table>\n",
              "</div>"
            ],
            "text/plain": [
              "         Date   Time Zone  Temperature (F)\n",
              "0  2019-12-01  00:00  EST             39.6\n",
              "1  2019-12-01  00:01  EST             39.4\n",
              "2  2019-12-01  00:02  EST             39.4\n",
              "3  2019-12-01  00:03  EST             39.4\n",
              "4  2019-12-01  00:04  EST             39.0"
            ]
          },
          "metadata": {
            "tags": []
          },
          "execution_count": 5
        }
      ]
    },
    {
      "cell_type": "code",
      "metadata": {
        "id": "2OOnsvX3uF1P",
        "colab_type": "code",
        "colab": {
          "base_uri": "https://localhost:8080/",
          "height": 197
        },
        "outputId": "fddc9963-9273-4f8e-f388-e17981045486"
      },
      "source": [
        "jan_df.head()"
      ],
      "execution_count": null,
      "outputs": [
        {
          "output_type": "execute_result",
          "data": {
            "text/html": [
              "<div>\n",
              "<style scoped>\n",
              "    .dataframe tbody tr th:only-of-type {\n",
              "        vertical-align: middle;\n",
              "    }\n",
              "\n",
              "    .dataframe tbody tr th {\n",
              "        vertical-align: top;\n",
              "    }\n",
              "\n",
              "    .dataframe thead th {\n",
              "        text-align: right;\n",
              "    }\n",
              "</style>\n",
              "<table border=\"1\" class=\"dataframe\">\n",
              "  <thead>\n",
              "    <tr style=\"text-align: right;\">\n",
              "      <th></th>\n",
              "      <th>Date</th>\n",
              "      <th>Time</th>\n",
              "      <th>Zone</th>\n",
              "      <th>Temperature (F)</th>\n",
              "    </tr>\n",
              "  </thead>\n",
              "  <tbody>\n",
              "    <tr>\n",
              "      <th>0</th>\n",
              "      <td>2020-01-01</td>\n",
              "      <td>16:18</td>\n",
              "      <td>EST</td>\n",
              "      <td>37.9</td>\n",
              "    </tr>\n",
              "    <tr>\n",
              "      <th>1</th>\n",
              "      <td>2020-01-01</td>\n",
              "      <td>16:19</td>\n",
              "      <td>EST</td>\n",
              "      <td>37.9</td>\n",
              "    </tr>\n",
              "    <tr>\n",
              "      <th>2</th>\n",
              "      <td>2020-01-01</td>\n",
              "      <td>16:21</td>\n",
              "      <td>EST</td>\n",
              "      <td>38.1</td>\n",
              "    </tr>\n",
              "    <tr>\n",
              "      <th>3</th>\n",
              "      <td>2020-01-01</td>\n",
              "      <td>16:22</td>\n",
              "      <td>EST</td>\n",
              "      <td>38.3</td>\n",
              "    </tr>\n",
              "    <tr>\n",
              "      <th>4</th>\n",
              "      <td>2020-01-01</td>\n",
              "      <td>16:23</td>\n",
              "      <td>EST</td>\n",
              "      <td>38.3</td>\n",
              "    </tr>\n",
              "  </tbody>\n",
              "</table>\n",
              "</div>"
            ],
            "text/plain": [
              "         Date   Time Zone  Temperature (F)\n",
              "0  2020-01-01  16:18  EST             37.9\n",
              "1  2020-01-01  16:19  EST             37.9\n",
              "2  2020-01-01  16:21  EST             38.1\n",
              "3  2020-01-01  16:22  EST             38.3\n",
              "4  2020-01-01  16:23  EST             38.3"
            ]
          },
          "metadata": {
            "tags": []
          },
          "execution_count": 6
        }
      ]
    },
    {
      "cell_type": "code",
      "metadata": {
        "id": "2F27CPk2uqeL",
        "colab_type": "code",
        "colab": {
          "base_uri": "https://localhost:8080/",
          "height": 197
        },
        "outputId": "362399fb-a9f9-462b-9d3d-2885c509f233"
      },
      "source": [
        "feb_df.head()"
      ],
      "execution_count": null,
      "outputs": [
        {
          "output_type": "execute_result",
          "data": {
            "text/html": [
              "<div>\n",
              "<style scoped>\n",
              "    .dataframe tbody tr th:only-of-type {\n",
              "        vertical-align: middle;\n",
              "    }\n",
              "\n",
              "    .dataframe tbody tr th {\n",
              "        vertical-align: top;\n",
              "    }\n",
              "\n",
              "    .dataframe thead th {\n",
              "        text-align: right;\n",
              "    }\n",
              "</style>\n",
              "<table border=\"1\" class=\"dataframe\">\n",
              "  <thead>\n",
              "    <tr style=\"text-align: right;\">\n",
              "      <th></th>\n",
              "      <th>Date</th>\n",
              "      <th>Time</th>\n",
              "      <th>Zone</th>\n",
              "      <th>Temperature (F)</th>\n",
              "    </tr>\n",
              "  </thead>\n",
              "  <tbody>\n",
              "    <tr>\n",
              "      <th>0</th>\n",
              "      <td>2020-02-01</td>\n",
              "      <td>00:00</td>\n",
              "      <td>EST</td>\n",
              "      <td>37.9</td>\n",
              "    </tr>\n",
              "    <tr>\n",
              "      <th>1</th>\n",
              "      <td>2020-02-01</td>\n",
              "      <td>00:01</td>\n",
              "      <td>EST</td>\n",
              "      <td>37.9</td>\n",
              "    </tr>\n",
              "    <tr>\n",
              "      <th>2</th>\n",
              "      <td>2020-02-01</td>\n",
              "      <td>00:02</td>\n",
              "      <td>EST</td>\n",
              "      <td>37.9</td>\n",
              "    </tr>\n",
              "    <tr>\n",
              "      <th>3</th>\n",
              "      <td>2020-02-01</td>\n",
              "      <td>00:03</td>\n",
              "      <td>EST</td>\n",
              "      <td>37.9</td>\n",
              "    </tr>\n",
              "    <tr>\n",
              "      <th>4</th>\n",
              "      <td>2020-02-01</td>\n",
              "      <td>00:04</td>\n",
              "      <td>EST</td>\n",
              "      <td>37.8</td>\n",
              "    </tr>\n",
              "  </tbody>\n",
              "</table>\n",
              "</div>"
            ],
            "text/plain": [
              "         Date   Time Zone  Temperature (F)\n",
              "0  2020-02-01  00:00  EST             37.9\n",
              "1  2020-02-01  00:01  EST             37.9\n",
              "2  2020-02-01  00:02  EST             37.9\n",
              "3  2020-02-01  00:03  EST             37.9\n",
              "4  2020-02-01  00:04  EST             37.8"
            ]
          },
          "metadata": {
            "tags": []
          },
          "execution_count": 7
        }
      ]
    },
    {
      "cell_type": "code",
      "metadata": {
        "id": "k7Vz3fZlaSf_",
        "colab_type": "code",
        "colab": {
          "base_uri": "https://localhost:8080/",
          "height": 34
        },
        "outputId": "8f139c9e-741b-45d9-fde4-fc58de0b613f"
      },
      "source": [
        "november_df.shape"
      ],
      "execution_count": null,
      "outputs": [
        {
          "output_type": "execute_result",
          "data": {
            "text/plain": [
              "(34226, 4)"
            ]
          },
          "metadata": {
            "tags": []
          },
          "execution_count": 8
        }
      ]
    },
    {
      "cell_type": "code",
      "metadata": {
        "id": "F9OcD41Buu6a",
        "colab_type": "code",
        "colab": {
          "base_uri": "https://localhost:8080/",
          "height": 34
        },
        "outputId": "3ba2df40-5b33-4b3a-dd90-9d94263bb03d"
      },
      "source": [
        "december_df.shape"
      ],
      "execution_count": null,
      "outputs": [
        {
          "output_type": "execute_result",
          "data": {
            "text/plain": [
              "(25488, 4)"
            ]
          },
          "metadata": {
            "tags": []
          },
          "execution_count": 9
        }
      ]
    },
    {
      "cell_type": "code",
      "metadata": {
        "id": "SWkUVgTBuyJP",
        "colab_type": "code",
        "colab": {
          "base_uri": "https://localhost:8080/",
          "height": 34
        },
        "outputId": "32e4e7c5-b3a3-40ae-c124-7dc2569d4641"
      },
      "source": [
        "jan_df.shape"
      ],
      "execution_count": null,
      "outputs": [
        {
          "output_type": "execute_result",
          "data": {
            "text/plain": [
              "(35364, 4)"
            ]
          },
          "metadata": {
            "tags": []
          },
          "execution_count": 10
        }
      ]
    },
    {
      "cell_type": "code",
      "metadata": {
        "id": "6JjPcU-Cu0Zp",
        "colab_type": "code",
        "colab": {
          "base_uri": "https://localhost:8080/",
          "height": 34
        },
        "outputId": "695038ac-4a26-433f-ebd7-b387fbfdce98"
      },
      "source": [
        "feb_df.shape"
      ],
      "execution_count": null,
      "outputs": [
        {
          "output_type": "execute_result",
          "data": {
            "text/plain": [
              "(8008, 4)"
            ]
          },
          "metadata": {
            "tags": []
          },
          "execution_count": 11
        }
      ]
    },
    {
      "cell_type": "code",
      "metadata": {
        "id": "WmzTROKmbe8s",
        "colab_type": "code",
        "colab": {
          "base_uri": "https://localhost:8080/",
          "height": 105
        },
        "outputId": "a332b82e-5c91-4145-c54d-2383a83d50af"
      },
      "source": [
        "november_df.dtypes"
      ],
      "execution_count": null,
      "outputs": [
        {
          "output_type": "execute_result",
          "data": {
            "text/plain": [
              "Date                object\n",
              "Time                object\n",
              "Zone                object\n",
              "Temperature (F)    float64\n",
              "dtype: object"
            ]
          },
          "metadata": {
            "tags": []
          },
          "execution_count": 12
        }
      ]
    },
    {
      "cell_type": "code",
      "metadata": {
        "id": "fvtyq92kbhvw",
        "colab_type": "code",
        "colab": {
          "base_uri": "https://localhost:8080/",
          "height": 34
        },
        "outputId": "63d9ae4e-d50e-4b29-e825-306b730c3d0b"
      },
      "source": [
        "november_df['Zone'].unique()"
      ],
      "execution_count": null,
      "outputs": [
        {
          "output_type": "execute_result",
          "data": {
            "text/plain": [
              "array(['EST'], dtype=object)"
            ]
          },
          "metadata": {
            "tags": []
          },
          "execution_count": 13
        }
      ]
    },
    {
      "cell_type": "code",
      "metadata": {
        "id": "_YI_J_SWiel-",
        "colab_type": "code",
        "colab": {}
      },
      "source": [
        "november_df['Date_Time'] = pd.to_datetime(november_df['Date'] + ' ' + november_df['Time'])\n",
        "december_df['Date_Time'] = pd.to_datetime(december_df['Date'] + ' ' + december_df['Time'])\n",
        "jan_df['Date_Time'] = pd.to_datetime(jan_df['Date'] + ' ' + jan_df['Time'])\n",
        "feb_df['Date_Time'] = pd.to_datetime(feb_df['Date'] + ' ' + feb_df['Time'])"
      ],
      "execution_count": null,
      "outputs": []
    },
    {
      "cell_type": "code",
      "metadata": {
        "id": "vouTghSJiucv",
        "colab_type": "code",
        "colab": {
          "base_uri": "https://localhost:8080/",
          "height": 197
        },
        "outputId": "367e12eb-651e-48da-f8df-f1e67ccfbf39"
      },
      "source": [
        "november_df.head()"
      ],
      "execution_count": null,
      "outputs": [
        {
          "output_type": "execute_result",
          "data": {
            "text/html": [
              "<div>\n",
              "<style scoped>\n",
              "    .dataframe tbody tr th:only-of-type {\n",
              "        vertical-align: middle;\n",
              "    }\n",
              "\n",
              "    .dataframe tbody tr th {\n",
              "        vertical-align: top;\n",
              "    }\n",
              "\n",
              "    .dataframe thead th {\n",
              "        text-align: right;\n",
              "    }\n",
              "</style>\n",
              "<table border=\"1\" class=\"dataframe\">\n",
              "  <thead>\n",
              "    <tr style=\"text-align: right;\">\n",
              "      <th></th>\n",
              "      <th>Date</th>\n",
              "      <th>Time</th>\n",
              "      <th>Zone</th>\n",
              "      <th>Temperature (F)</th>\n",
              "      <th>Date_Time</th>\n",
              "    </tr>\n",
              "  </thead>\n",
              "  <tbody>\n",
              "    <tr>\n",
              "      <th>0</th>\n",
              "      <td>2019-11-04</td>\n",
              "      <td>16:50</td>\n",
              "      <td>EST</td>\n",
              "      <td>67.5</td>\n",
              "      <td>2019-11-04 16:50:00</td>\n",
              "    </tr>\n",
              "    <tr>\n",
              "      <th>1</th>\n",
              "      <td>2019-11-04</td>\n",
              "      <td>16:51</td>\n",
              "      <td>EST</td>\n",
              "      <td>67.3</td>\n",
              "      <td>2019-11-04 16:51:00</td>\n",
              "    </tr>\n",
              "    <tr>\n",
              "      <th>2</th>\n",
              "      <td>2019-11-04</td>\n",
              "      <td>16:52</td>\n",
              "      <td>EST</td>\n",
              "      <td>67.3</td>\n",
              "      <td>2019-11-04 16:52:00</td>\n",
              "    </tr>\n",
              "    <tr>\n",
              "      <th>3</th>\n",
              "      <td>2019-11-04</td>\n",
              "      <td>16:53</td>\n",
              "      <td>EST</td>\n",
              "      <td>67.3</td>\n",
              "      <td>2019-11-04 16:53:00</td>\n",
              "    </tr>\n",
              "    <tr>\n",
              "      <th>4</th>\n",
              "      <td>2019-11-04</td>\n",
              "      <td>16:54</td>\n",
              "      <td>EST</td>\n",
              "      <td>67.2</td>\n",
              "      <td>2019-11-04 16:54:00</td>\n",
              "    </tr>\n",
              "  </tbody>\n",
              "</table>\n",
              "</div>"
            ],
            "text/plain": [
              "         Date   Time Zone  Temperature (F)           Date_Time\n",
              "0  2019-11-04  16:50  EST             67.5 2019-11-04 16:50:00\n",
              "1  2019-11-04  16:51  EST             67.3 2019-11-04 16:51:00\n",
              "2  2019-11-04  16:52  EST             67.3 2019-11-04 16:52:00\n",
              "3  2019-11-04  16:53  EST             67.3 2019-11-04 16:53:00\n",
              "4  2019-11-04  16:54  EST             67.2 2019-11-04 16:54:00"
            ]
          },
          "metadata": {
            "tags": []
          },
          "execution_count": 15
        }
      ]
    },
    {
      "cell_type": "code",
      "metadata": {
        "id": "RDBnkYKQleVn",
        "colab_type": "code",
        "colab": {
          "base_uri": "https://localhost:8080/",
          "height": 141
        },
        "outputId": "62f3af6f-3b40-4e2b-bd2e-8f2f116b2ed5"
      },
      "source": [
        "november_df['Date'].unique()"
      ],
      "execution_count": null,
      "outputs": [
        {
          "output_type": "execute_result",
          "data": {
            "text/plain": [
              "array(['2019-11-04', '2019-11-05', '2019-11-06', '2019-11-07',\n",
              "       '2019-11-08', '2019-11-09', '2019-11-10', '2019-11-11',\n",
              "       '2019-11-12', '2019-11-13', '2019-11-14', '2019-11-15',\n",
              "       '2019-11-16', '2019-11-17', '2019-11-18', '2019-11-19',\n",
              "       '2019-11-20', '2019-11-21', '2019-11-22', '2019-11-23',\n",
              "       '2019-11-24', '2019-11-25', '2019-11-26', '2019-11-27',\n",
              "       '2019-11-28', '2019-11-29', '2019-11-30'], dtype=object)"
            ]
          },
          "metadata": {
            "tags": []
          },
          "execution_count": 16
        }
      ]
    },
    {
      "cell_type": "markdown",
      "metadata": {
        "id": "bJoZDDkEcAvU",
        "colab_type": "text"
      },
      "source": [
        "# 3. **Find Missing (or) Null Values**  "
      ]
    },
    {
      "cell_type": "code",
      "metadata": {
        "id": "ELkny0Jrb6ei",
        "colab_type": "code",
        "colab": {
          "base_uri": "https://localhost:8080/",
          "height": 123
        },
        "outputId": "b5069ec3-9982-4cbf-9f70-1432cabe3114"
      },
      "source": [
        "november_df.isnull().sum()"
      ],
      "execution_count": null,
      "outputs": [
        {
          "output_type": "execute_result",
          "data": {
            "text/plain": [
              "Date               0\n",
              "Time               0\n",
              "Zone               0\n",
              "Temperature (F)    0\n",
              "Date_Time          0\n",
              "dtype: int64"
            ]
          },
          "metadata": {
            "tags": []
          },
          "execution_count": 17
        }
      ]
    },
    {
      "cell_type": "code",
      "metadata": {
        "id": "sntBcPEqu4dX",
        "colab_type": "code",
        "colab": {
          "base_uri": "https://localhost:8080/",
          "height": 123
        },
        "outputId": "9c536122-0bc3-4f85-8b24-33f138276862"
      },
      "source": [
        "december_df.isnull().sum()"
      ],
      "execution_count": null,
      "outputs": [
        {
          "output_type": "execute_result",
          "data": {
            "text/plain": [
              "Date               0\n",
              "Time               0\n",
              "Zone               0\n",
              "Temperature (F)    0\n",
              "Date_Time          0\n",
              "dtype: int64"
            ]
          },
          "metadata": {
            "tags": []
          },
          "execution_count": 18
        }
      ]
    },
    {
      "cell_type": "code",
      "metadata": {
        "id": "J-klCrgTu87c",
        "colab_type": "code",
        "colab": {
          "base_uri": "https://localhost:8080/",
          "height": 123
        },
        "outputId": "6cd67dce-d9c6-4f16-8acf-2fcba6072910"
      },
      "source": [
        "jan_df.isnull().sum()"
      ],
      "execution_count": null,
      "outputs": [
        {
          "output_type": "execute_result",
          "data": {
            "text/plain": [
              "Date               0\n",
              "Time               0\n",
              "Zone               0\n",
              "Temperature (F)    0\n",
              "Date_Time          0\n",
              "dtype: int64"
            ]
          },
          "metadata": {
            "tags": []
          },
          "execution_count": 19
        }
      ]
    },
    {
      "cell_type": "code",
      "metadata": {
        "id": "a4_GLrN2vAuH",
        "colab_type": "code",
        "colab": {
          "base_uri": "https://localhost:8080/",
          "height": 123
        },
        "outputId": "a2fa0cb0-d087-4408-ee5f-8dda4d6250d8"
      },
      "source": [
        "feb_df.isnull().sum()"
      ],
      "execution_count": null,
      "outputs": [
        {
          "output_type": "execute_result",
          "data": {
            "text/plain": [
              "Date               0\n",
              "Time               0\n",
              "Zone               0\n",
              "Temperature (F)    0\n",
              "Date_Time          0\n",
              "dtype: int64"
            ]
          },
          "metadata": {
            "tags": []
          },
          "execution_count": 20
        }
      ]
    },
    {
      "cell_type": "markdown",
      "metadata": {
        "id": "g_v8GDVKjO2m",
        "colab_type": "text"
      },
      "source": [
        "# **4. Dataset Visualization**"
      ]
    },
    {
      "cell_type": "markdown",
      "metadata": {
        "id": "cHlTw301jWqk",
        "colab_type": "text"
      },
      "source": [
        "### Line Plot"
      ]
    },
    {
      "cell_type": "code",
      "metadata": {
        "id": "7dnGsfYKdPKW",
        "colab_type": "code",
        "colab": {
          "base_uri": "https://localhost:8080/",
          "height": 384
        },
        "outputId": "c563dfcd-68d9-4808-ce90-81251d6c13b6"
      },
      "source": [
        "november_df.plot(x = 'Date_Time', y = 'Temperature (F)',figsize=(20,6)) #style = 'k.' for dotted lines\n",
        "plt.show()"
      ],
      "execution_count": null,
      "outputs": [
        {
          "output_type": "display_data",
          "data": {
            "image/png": "[encoded data removed]",
            "text/plain": [
              "<Figure size 1440x432 with 1 Axes>"
            ]
          },
          "metadata": {
            "tags": [],
            "needs_background": "light"
          }
        }
      ]
    },
    {
      "cell_type": "markdown",
      "metadata": {
        "id": "xQSaBx1emmEe",
        "colab_type": "text"
      },
      "source": [
        "### Line plot -- Group By day and then plot all the temperatures of different times on the particular day"
      ]
    },
    {
      "cell_type": "code",
      "metadata": {
        "id": "2Cwwmo51j071",
        "colab_type": "code",
        "colab": {}
      },
      "source": [
        "#from pandas import DataFrame\n",
        "#df = november_df.drop(['Zone', 'Date_Time'], axis = 1)\n",
        "#groups = df.set_index('Date').groupby('Date')\n",
        "#groups = df.groupby(Grouper(freq='A'))\n",
        "#Days = DataFrame()\n",
        "#for name, group in groups:\n",
        "#\tDays[name] = group.values\n",
        "#Days.plot(subplots=True, legend=False)\n",
        "#pyplot.show()"
      ],
      "execution_count": null,
      "outputs": []
    },
    {
      "cell_type": "markdown",
      "metadata": {
        "id": "aX0l_Nuv7tMb",
        "colab_type": "text"
      },
      "source": [
        "# LSTM Model"
      ]
    },
    {
      "cell_type": "code",
      "metadata": {
        "id": "ggNMWh35N_I_",
        "colab_type": "code",
        "colab": {
          "base_uri": "https://localhost:8080/",
          "height": 72
        },
        "outputId": "366aee43-42b5-47ca-b8bc-499492a4f339"
      },
      "source": [
        "from sklearn.preprocessing import MinMaxScaler\n",
        "import tensorflow as tf\n",
        "from statsmodels.tools.eval_measures import rmse"
      ],
      "execution_count": null,
      "outputs": [
        {
          "output_type": "stream",
          "text": [
            "/usr/local/lib/python3.6/dist-packages/statsmodels/tools/_testing.py:19: FutureWarning: pandas.util.testing is deprecated. Use the functions in the public API at pandas.testing instead.\n",
            "  import pandas.util.testing as tm\n"
          ],
          "name": "stderr"
        }
      ]
    },
    {
      "cell_type": "code",
      "metadata": {
        "colab_type": "code",
        "id": "TsNbvbdB7sHo",
        "colab": {}
      },
      "source": [
        "df1 = november_df.drop(['Date', 'Time', 'Zone'], axis = 1)\n",
        "df2 = december_df.drop(['Date', 'Time', 'Zone'], axis = 1)\n",
        "df3 = jan_df.drop(['Date', 'Time', 'Zone'], axis = 1)\n",
        "df4 = feb_df.drop(['Date', 'Time', 'Zone'], axis = 1)"
      ],
      "execution_count": null,
      "outputs": []
    },
    {
      "cell_type": "code",
      "metadata": {
        "id": "nO1EDRejJ5nH",
        "colab_type": "code",
        "colab": {}
      },
      "source": [
        "final_df = pd.DataFrame()\n",
        "final_df = final_df.append(df1).append(df2).append(df3).append(df4)"
      ],
      "execution_count": null,
      "outputs": []
    },
    {
      "cell_type": "code",
      "metadata": {
        "id": "sPoc251TKHNq",
        "colab_type": "code",
        "colab": {
          "base_uri": "https://localhost:8080/",
          "height": 197
        },
        "outputId": "e2967b3e-0cc0-4a29-b112-ad03ba230475"
      },
      "source": [
        "final_df.sort_values('Date_Time')\n",
        "final_df.head()"
      ],
      "execution_count": null,
      "outputs": [
        {
          "output_type": "execute_result",
          "data": {
            "text/html": [
              "<div>\n",
              "<style scoped>\n",
              "    .dataframe tbody tr th:only-of-type {\n",
              "        vertical-align: middle;\n",
              "    }\n",
              "\n",
              "    .dataframe tbody tr th {\n",
              "        vertical-align: top;\n",
              "    }\n",
              "\n",
              "    .dataframe thead th {\n",
              "        text-align: right;\n",
              "    }\n",
              "</style>\n",
              "<table border=\"1\" class=\"dataframe\">\n",
              "  <thead>\n",
              "    <tr style=\"text-align: right;\">\n",
              "      <th></th>\n",
              "      <th>Temperature (F)</th>\n",
              "      <th>Date_Time</th>\n",
              "    </tr>\n",
              "  </thead>\n",
              "  <tbody>\n",
              "    <tr>\n",
              "      <th>0</th>\n",
              "      <td>67.5</td>\n",
              "      <td>2019-11-04 16:50:00</td>\n",
              "    </tr>\n",
              "    <tr>\n",
              "      <th>1</th>\n",
              "      <td>67.3</td>\n",
              "      <td>2019-11-04 16:51:00</td>\n",
              "    </tr>\n",
              "    <tr>\n",
              "      <th>2</th>\n",
              "      <td>67.3</td>\n",
              "      <td>2019-11-04 16:52:00</td>\n",
              "    </tr>\n",
              "    <tr>\n",
              "      <th>3</th>\n",
              "      <td>67.3</td>\n",
              "      <td>2019-11-04 16:53:00</td>\n",
              "    </tr>\n",
              "    <tr>\n",
              "      <th>4</th>\n",
              "      <td>67.2</td>\n",
              "      <td>2019-11-04 16:54:00</td>\n",
              "    </tr>\n",
              "  </tbody>\n",
              "</table>\n",
              "</div>"
            ],
            "text/plain": [
              "   Temperature (F)           Date_Time\n",
              "0             67.5 2019-11-04 16:50:00\n",
              "1             67.3 2019-11-04 16:51:00\n",
              "2             67.3 2019-11-04 16:52:00\n",
              "3             67.3 2019-11-04 16:53:00\n",
              "4             67.2 2019-11-04 16:54:00"
            ]
          },
          "metadata": {
            "tags": []
          },
          "execution_count": 26
        }
      ]
    },
    {
      "cell_type": "code",
      "metadata": {
        "colab_type": "code",
        "id": "-ioueEDe7sIT",
        "colab": {
          "base_uri": "https://localhost:8080/",
          "height": 227
        },
        "outputId": "4f6f290c-6d01-4ae9-85f0-31a0f1eaf5e0"
      },
      "source": [
        "final_df.set_index('Date_Time',inplace=True)\n",
        "final_df.head()"
      ],
      "execution_count": null,
      "outputs": [
        {
          "output_type": "execute_result",
          "data": {
            "text/html": [
              "<div>\n",
              "<style scoped>\n",
              "    .dataframe tbody tr th:only-of-type {\n",
              "        vertical-align: middle;\n",
              "    }\n",
              "\n",
              "    .dataframe tbody tr th {\n",
              "        vertical-align: top;\n",
              "    }\n",
              "\n",
              "    .dataframe thead th {\n",
              "        text-align: right;\n",
              "    }\n",
              "</style>\n",
              "<table border=\"1\" class=\"dataframe\">\n",
              "  <thead>\n",
              "    <tr style=\"text-align: right;\">\n",
              "      <th></th>\n",
              "      <th>Temperature (F)</th>\n",
              "    </tr>\n",
              "    <tr>\n",
              "      <th>Date_Time</th>\n",
              "      <th></th>\n",
              "    </tr>\n",
              "  </thead>\n",
              "  <tbody>\n",
              "    <tr>\n",
              "      <th>2019-11-04 16:50:00</th>\n",
              "      <td>67.5</td>\n",
              "    </tr>\n",
              "    <tr>\n",
              "      <th>2019-11-04 16:51:00</th>\n",
              "      <td>67.3</td>\n",
              "    </tr>\n",
              "    <tr>\n",
              "      <th>2019-11-04 16:52:00</th>\n",
              "      <td>67.3</td>\n",
              "    </tr>\n",
              "    <tr>\n",
              "      <th>2019-11-04 16:53:00</th>\n",
              "      <td>67.3</td>\n",
              "    </tr>\n",
              "    <tr>\n",
              "      <th>2019-11-04 16:54:00</th>\n",
              "      <td>67.2</td>\n",
              "    </tr>\n",
              "  </tbody>\n",
              "</table>\n",
              "</div>"
            ],
            "text/plain": [
              "                     Temperature (F)\n",
              "Date_Time                           \n",
              "2019-11-04 16:50:00             67.5\n",
              "2019-11-04 16:51:00             67.3\n",
              "2019-11-04 16:52:00             67.3\n",
              "2019-11-04 16:53:00             67.3\n",
              "2019-11-04 16:54:00             67.2"
            ]
          },
          "metadata": {
            "tags": []
          },
          "execution_count": 27
        }
      ]
    },
    {
      "cell_type": "code",
      "metadata": {
        "id": "yVO7VudEaoJ6",
        "colab_type": "code",
        "colab": {
          "base_uri": "https://localhost:8080/",
          "height": 227
        },
        "outputId": "2b96140f-464b-48ef-b902-e71832197acb"
      },
      "source": [
        "final_df.rename(columns={'Temperature (F)':'Temp_F'},inplace=True)\n",
        "final_df.head()"
      ],
      "execution_count": null,
      "outputs": [
        {
          "output_type": "execute_result",
          "data": {
            "text/html": [
              "<div>\n",
              "<style scoped>\n",
              "    .dataframe tbody tr th:only-of-type {\n",
              "        vertical-align: middle;\n",
              "    }\n",
              "\n",
              "    .dataframe tbody tr th {\n",
              "        vertical-align: top;\n",
              "    }\n",
              "\n",
              "    .dataframe thead th {\n",
              "        text-align: right;\n",
              "    }\n",
              "</style>\n",
              "<table border=\"1\" class=\"dataframe\">\n",
              "  <thead>\n",
              "    <tr style=\"text-align: right;\">\n",
              "      <th></th>\n",
              "      <th>Temp_F</th>\n",
              "    </tr>\n",
              "    <tr>\n",
              "      <th>Date_Time</th>\n",
              "      <th></th>\n",
              "    </tr>\n",
              "  </thead>\n",
              "  <tbody>\n",
              "    <tr>\n",
              "      <th>2019-11-04 16:50:00</th>\n",
              "      <td>67.5</td>\n",
              "    </tr>\n",
              "    <tr>\n",
              "      <th>2019-11-04 16:51:00</th>\n",
              "      <td>67.3</td>\n",
              "    </tr>\n",
              "    <tr>\n",
              "      <th>2019-11-04 16:52:00</th>\n",
              "      <td>67.3</td>\n",
              "    </tr>\n",
              "    <tr>\n",
              "      <th>2019-11-04 16:53:00</th>\n",
              "      <td>67.3</td>\n",
              "    </tr>\n",
              "    <tr>\n",
              "      <th>2019-11-04 16:54:00</th>\n",
              "      <td>67.2</td>\n",
              "    </tr>\n",
              "  </tbody>\n",
              "</table>\n",
              "</div>"
            ],
            "text/plain": [
              "                     Temp_F\n",
              "Date_Time                  \n",
              "2019-11-04 16:50:00    67.5\n",
              "2019-11-04 16:51:00    67.3\n",
              "2019-11-04 16:52:00    67.3\n",
              "2019-11-04 16:53:00    67.3\n",
              "2019-11-04 16:54:00    67.2"
            ]
          },
          "metadata": {
            "tags": []
          },
          "execution_count": 28
        }
      ]
    },
    {
      "cell_type": "markdown",
      "metadata": {
        "id": "JGSkHRDIrhet",
        "colab_type": "text"
      },
      "source": [
        "### Create a DataFrame which has all the data points from nov2019 to dec 2020 as a continuous timeseries, with records for all the 1 min intervals\n",
        "### Then we are using KNN method for imputation\n",
        "--Dinakar"
      ]
    },
    {
      "cell_type": "code",
      "metadata": {
        "id": "5M6gaPrSMTcV",
        "colab_type": "code",
        "colab": {}
      },
      "source": [
        "df1.set_index('Date_Time',inplace=True)\n",
        "df2.set_index('Date_Time',inplace=True)\n",
        "df3.set_index('Date_Time',inplace=True)\n",
        "df4.set_index('Date_Time',inplace=True)"
      ],
      "execution_count": null,
      "outputs": []
    },
    {
      "cell_type": "code",
      "metadata": {
        "id": "K6qX2q8xK11N",
        "colab_type": "code",
        "colab": {
          "base_uri": "https://localhost:8080/",
          "height": 158
        },
        "outputId": "5928419f-82dd-43d6-a166-0605aeaa535a"
      },
      "source": [
        "df_names = [df1, df2, df3, df4]\n",
        "months = ['nov', 'dec', 'jan', 'feb']\n",
        "data_full = pd.DataFrame(columns = ['Time','Temperature'])\n",
        "\n",
        "for month, name in zip(months,df_names):\n",
        "    print(month)\n",
        "    print(name.shape)\n",
        "    month = name.groupby(pd.Grouper(freq='1Min'))\n",
        "    new_df = pd.DataFrame(columns = ['Time','Temperature'])\n",
        "    for name, group in month:\n",
        "        if (len(group.values.flatten()) == 0):\n",
        "            new_df = new_df.append({'Time':name,'Temperature':np.nan}, ignore_index=True)\n",
        "        else:\n",
        "            new_df = new_df.append({'Time':name,'Temperature':group.values.flatten()[0]}, ignore_index=True)\n",
        "    #data_full has the continuous data with nan values            \n",
        "    data_full = pd.concat([data_full, new_df], sort=False, ignore_index=True)"
      ],
      "execution_count": null,
      "outputs": [
        {
          "output_type": "stream",
          "text": [
            "nov\n",
            "(34226, 1)\n",
            "dec\n",
            "(25488, 1)\n",
            "jan\n",
            "(35364, 1)\n",
            "feb\n",
            "(8008, 1)\n"
          ],
          "name": "stdout"
        }
      ]
    },
    {
      "cell_type": "code",
      "metadata": {
        "id": "XokIGN80bD6E",
        "colab_type": "code",
        "colab": {}
      },
      "source": [
        "  data_full.set_index('Time', drop=True, append=False, inplace=True, verify_integrity=False)"
      ],
      "execution_count": null,
      "outputs": []
    },
    {
      "cell_type": "code",
      "metadata": {
        "id": "CU391zTvLlpT",
        "colab_type": "code",
        "colab": {
          "base_uri": "https://localhost:8080/",
          "height": 34
        },
        "outputId": "19f590b7-7404-4c6e-e59d-0bbf419de8a4"
      },
      "source": [
        "data_full.shape"
      ],
      "execution_count": null,
      "outputs": [
        {
          "output_type": "execute_result",
          "data": {
            "text/plain": [
              "(133927, 1)"
            ]
          },
          "metadata": {
            "tags": []
          },
          "execution_count": 32
        }
      ]
    },
    {
      "cell_type": "code",
      "metadata": {
        "id": "IB2LgklPUe28",
        "colab_type": "code",
        "colab": {
          "base_uri": "https://localhost:8080/",
          "height": 227
        },
        "outputId": "9c82196b-08df-4a03-a4d8-14600852cf51"
      },
      "source": [
        "data_full.sample(5)"
      ],
      "execution_count": null,
      "outputs": [
        {
          "output_type": "execute_result",
          "data": {
            "text/html": [
              "<div>\n",
              "<style scoped>\n",
              "    .dataframe tbody tr th:only-of-type {\n",
              "        vertical-align: middle;\n",
              "    }\n",
              "\n",
              "    .dataframe tbody tr th {\n",
              "        vertical-align: top;\n",
              "    }\n",
              "\n",
              "    .dataframe thead th {\n",
              "        text-align: right;\n",
              "    }\n",
              "</style>\n",
              "<table border=\"1\" class=\"dataframe\">\n",
              "  <thead>\n",
              "    <tr style=\"text-align: right;\">\n",
              "      <th></th>\n",
              "      <th>Temperature</th>\n",
              "    </tr>\n",
              "    <tr>\n",
              "      <th>Time</th>\n",
              "      <th></th>\n",
              "    </tr>\n",
              "  </thead>\n",
              "  <tbody>\n",
              "    <tr>\n",
              "      <th>2020-01-17 23:23:00</th>\n",
              "      <td>41.4</td>\n",
              "    </tr>\n",
              "    <tr>\n",
              "      <th>2020-01-15 00:32:00</th>\n",
              "      <td>39.0</td>\n",
              "    </tr>\n",
              "    <tr>\n",
              "      <th>2020-01-05 12:22:00</th>\n",
              "      <td>37.8</td>\n",
              "    </tr>\n",
              "    <tr>\n",
              "      <th>2020-01-22 03:41:00</th>\n",
              "      <td>39.6</td>\n",
              "    </tr>\n",
              "    <tr>\n",
              "      <th>2020-01-02 10:43:00</th>\n",
              "      <td>NaN</td>\n",
              "    </tr>\n",
              "  </tbody>\n",
              "</table>\n",
              "</div>"
            ],
            "text/plain": [
              "                     Temperature\n",
              "Time                            \n",
              "2020-01-17 23:23:00         41.4\n",
              "2020-01-15 00:32:00         39.0\n",
              "2020-01-05 12:22:00         37.8\n",
              "2020-01-22 03:41:00         39.6\n",
              "2020-01-02 10:43:00          NaN"
            ]
          },
          "metadata": {
            "tags": []
          },
          "execution_count": 33
        }
      ]
    },
    {
      "cell_type": "code",
      "metadata": {
        "id": "rTkvJ04FUU0r",
        "colab_type": "code",
        "colab": {
          "base_uri": "https://localhost:8080/",
          "height": 52
        },
        "outputId": "2455abf6-6526-48b7-81a9-621f8ef3482a"
      },
      "source": [
        "#We see that we have 30841 null values\n",
        "data_full.isna().sum()"
      ],
      "execution_count": null,
      "outputs": [
        {
          "output_type": "execute_result",
          "data": {
            "text/plain": [
              "Temperature    30841\n",
              "dtype: int64"
            ]
          },
          "metadata": {
            "tags": []
          },
          "execution_count": 34
        }
      ]
    },
    {
      "cell_type": "code",
      "metadata": {
        "id": "ABeu_6dEUc1z",
        "colab_type": "code",
        "colab": {}
      },
      "source": [
        "#Impute missing values in numeric columns using kNN Imputation\n",
        "imputer = KNNImputer(n_neighbors=15, weights=\"uniform\")\n",
        "imputed_values = imputer.fit_transform(data_full)"
      ],
      "execution_count": null,
      "outputs": []
    },
    {
      "cell_type": "code",
      "metadata": {
        "id": "03FSUFwTVvKd",
        "colab_type": "code",
        "colab": {
          "base_uri": "https://localhost:8080/",
          "height": 245
        },
        "outputId": "f24d73ec-683a-441b-ff62-d9d65cec6084"
      },
      "source": [
        "#convert the numeric columns after imputation to a dataframe\n",
        "#data_imputed is complete datset imputed with KNN imputation values\n",
        "data_imputed = pd.DataFrame(imputed_values, columns=['Temperature'])\n",
        "data_imputed.index = data_full.index\n",
        "print(data_imputed.shape)\n",
        "data_imputed.head()"
      ],
      "execution_count": null,
      "outputs": [
        {
          "output_type": "stream",
          "text": [
            "(133927, 1)\n"
          ],
          "name": "stdout"
        },
        {
          "output_type": "execute_result",
          "data": {
            "text/html": [
              "<div>\n",
              "<style scoped>\n",
              "    .dataframe tbody tr th:only-of-type {\n",
              "        vertical-align: middle;\n",
              "    }\n",
              "\n",
              "    .dataframe tbody tr th {\n",
              "        vertical-align: top;\n",
              "    }\n",
              "\n",
              "    .dataframe thead th {\n",
              "        text-align: right;\n",
              "    }\n",
              "</style>\n",
              "<table border=\"1\" class=\"dataframe\">\n",
              "  <thead>\n",
              "    <tr style=\"text-align: right;\">\n",
              "      <th></th>\n",
              "      <th>Temperature</th>\n",
              "    </tr>\n",
              "    <tr>\n",
              "      <th>Time</th>\n",
              "      <th></th>\n",
              "    </tr>\n",
              "  </thead>\n",
              "  <tbody>\n",
              "    <tr>\n",
              "      <th>2019-11-04 16:50:00</th>\n",
              "      <td>67.5</td>\n",
              "    </tr>\n",
              "    <tr>\n",
              "      <th>2019-11-04 16:51:00</th>\n",
              "      <td>67.3</td>\n",
              "    </tr>\n",
              "    <tr>\n",
              "      <th>2019-11-04 16:52:00</th>\n",
              "      <td>67.3</td>\n",
              "    </tr>\n",
              "    <tr>\n",
              "      <th>2019-11-04 16:53:00</th>\n",
              "      <td>67.3</td>\n",
              "    </tr>\n",
              "    <tr>\n",
              "      <th>2019-11-04 16:54:00</th>\n",
              "      <td>67.2</td>\n",
              "    </tr>\n",
              "  </tbody>\n",
              "</table>\n",
              "</div>"
            ],
            "text/plain": [
              "                     Temperature\n",
              "Time                            \n",
              "2019-11-04 16:50:00         67.5\n",
              "2019-11-04 16:51:00         67.3\n",
              "2019-11-04 16:52:00         67.3\n",
              "2019-11-04 16:53:00         67.3\n",
              "2019-11-04 16:54:00         67.2"
            ]
          },
          "metadata": {
            "tags": []
          },
          "execution_count": 36
        }
      ]
    },
    {
      "cell_type": "code",
      "metadata": {
        "id": "uSd_H9SMeIYQ",
        "colab_type": "code",
        "colab": {
          "base_uri": "https://localhost:8080/",
          "height": 230
        },
        "outputId": "3153c6c4-c14c-4480-fb1a-9e41b03dd1da"
      },
      "source": [
        "data_imputed.index"
      ],
      "execution_count": null,
      "outputs": [
        {
          "output_type": "execute_result",
          "data": {
            "text/plain": [
              "DatetimeIndex(['2019-11-04 16:50:00', '2019-11-04 16:51:00',\n",
              "               '2019-11-04 16:52:00', '2019-11-04 16:53:00',\n",
              "               '2019-11-04 16:54:00', '2019-11-04 16:55:00',\n",
              "               '2019-11-04 16:56:00', '2019-11-04 16:57:00',\n",
              "               '2019-11-04 16:58:00', '2019-11-04 16:59:00',\n",
              "               ...\n",
              "               '2020-02-06 13:51:00', '2020-02-06 13:52:00',\n",
              "               '2020-02-06 13:53:00', '2020-02-06 13:54:00',\n",
              "               '2020-02-06 13:55:00', '2020-02-06 13:56:00',\n",
              "               '2020-02-06 13:57:00', '2020-02-06 13:58:00',\n",
              "               '2020-02-06 13:59:00', '2020-02-06 14:00:00'],\n",
              "              dtype='datetime64[ns]', name='Time', length=133927, freq=None)"
            ]
          },
          "metadata": {
            "tags": []
          },
          "execution_count": 37
        }
      ]
    },
    {
      "cell_type": "code",
      "metadata": {
        "id": "UXGbxL3BWRzz",
        "colab_type": "code",
        "colab": {
          "base_uri": "https://localhost:8080/",
          "height": 52
        },
        "outputId": "2bff040c-27e7-44ef-acdd-31e3b20f7bc6"
      },
      "source": [
        "data_imputed.isna().sum()"
      ],
      "execution_count": null,
      "outputs": [
        {
          "output_type": "execute_result",
          "data": {
            "text/plain": [
              "Temperature    0\n",
              "dtype: int64"
            ]
          },
          "metadata": {
            "tags": []
          },
          "execution_count": 38
        }
      ]
    },
    {
      "cell_type": "markdown",
      "metadata": {
        "id": "Yj4H73-Rszlq",
        "colab_type": "text"
      },
      "source": [
        "##  Create training and test datasets by Standardising the input"
      ]
    },
    {
      "cell_type": "code",
      "metadata": {
        "id": "BaMaqw-BLAF4",
        "colab_type": "code",
        "colab": {}
      },
      "source": [
        "#70% examples will used for training (in the begining)\n",
        "train_size = int(len(data_imputed) * 0.80)\n",
        "\n",
        "#30% will be used for Test\n",
        "test_size = len(data_imputed - train_size)"
      ],
      "execution_count": null,
      "outputs": []
    },
    {
      "cell_type": "code",
      "metadata": {
        "id": "rtaPfYq-OUVY",
        "colab_type": "code",
        "colab": {}
      },
      "source": [
        "from sklearn.preprocessing import StandardScaler"
      ],
      "execution_count": null,
      "outputs": []
    },
    {
      "cell_type": "code",
      "metadata": {
        "id": "okQTsjwpLKl9",
        "colab_type": "code",
        "colab": {}
      },
      "source": [
        "#Normalize the data\n",
        "scaler = StandardScaler()\n",
        "scaled = scaler.fit_transform(data_imputed)"
      ],
      "execution_count": null,
      "outputs": []
    },
    {
      "cell_type": "code",
      "metadata": {
        "id": "jFS_ttuU_coI",
        "colab_type": "code",
        "colab": {}
      },
      "source": [
        "#70% examples will used for training (in the begining)\n",
        "train_size = int(len(scaled) * 0.80)\n",
        "\n",
        "#30% will be used for Test\n",
        "test_size = len(scaled - train_size)"
      ],
      "execution_count": null,
      "outputs": []
    },
    {
      "cell_type": "code",
      "metadata": {
        "id": "G3h-5Zq5_ebT",
        "colab_type": "code",
        "colab": {
          "base_uri": "https://localhost:8080/",
          "height": 52
        },
        "outputId": "678558c6-ca7e-4bb6-f121-648b5265016e"
      },
      "source": [
        "#Split the data\n",
        "train, test = scaled[0:train_size, :], scaled[train_size: len(scaled), :]\n",
        "print('train: {}\\ntest: {}'.format(len(train), len(test)))"
      ],
      "execution_count": null,
      "outputs": [
        {
          "output_type": "stream",
          "text": [
            "train: 107141\n",
            "test: 26786\n"
          ],
          "name": "stdout"
        }
      ]
    },
    {
      "cell_type": "code",
      "metadata": {
        "id": "o22pvqoYL-q0",
        "colab_type": "code",
        "colab": {
          "base_uri": "https://localhost:8080/",
          "height": 34
        },
        "outputId": "fdf4ba92-f964-47be-8aa4-c7ea28f7c805"
      },
      "source": [
        "train.shape"
      ],
      "execution_count": null,
      "outputs": [
        {
          "output_type": "execute_result",
          "data": {
            "text/plain": [
              "(107141, 1)"
            ]
          },
          "metadata": {
            "tags": []
          },
          "execution_count": 77
        }
      ]
    },
    {
      "cell_type": "code",
      "metadata": {
        "id": "FJxgKPSVMA86",
        "colab_type": "code",
        "colab": {
          "base_uri": "https://localhost:8080/",
          "height": 34
        },
        "outputId": "83b947ff-20a8-4321-975b-e264ecff5034"
      },
      "source": [
        "test.shape"
      ],
      "execution_count": null,
      "outputs": [
        {
          "output_type": "execute_result",
          "data": {
            "text/plain": [
              "(26786, 1)"
            ]
          },
          "metadata": {
            "tags": []
          },
          "execution_count": 78
        }
      ]
    },
    {
      "cell_type": "code",
      "metadata": {
        "id": "gUSZGooM3Vhi",
        "colab_type": "code",
        "colab": {}
      },
      "source": [
        "#window - how long the sequence will be\n",
        "def create_dataset(dataset, window=1):\n",
        "    \n",
        "    dataX, dataY = [], []\n",
        "    \n",
        "    for i in range(len(dataset)-window):\n",
        "        \n",
        "        a = dataset[i:(i+window), 0]        \n",
        "        dataX.append(a)\n",
        "        dataY.append(dataset[i + window, 0])\n",
        "    \n",
        "    return np.array(dataX), np.array(dataY)"
      ],
      "execution_count": null,
      "outputs": []
    },
    {
      "cell_type": "markdown",
      "metadata": {
        "id": "1-dAnmQjVmvk",
        "colab_type": "text"
      },
      "source": [
        "# 180 Min Prediction"
      ]
    },
    {
      "cell_type": "code",
      "metadata": {
        "id": "O5hCQzRf3Vk3",
        "colab_type": "code",
        "colab": {}
      },
      "source": [
        "#Create Input and Output\n",
        "window_size = 180\n",
        "X_train, y_train = create_dataset(train, window_size)\n",
        "X_test, y_test = create_dataset(test, window_size)"
      ],
      "execution_count": null,
      "outputs": []
    },
    {
      "cell_type": "code",
      "metadata": {
        "id": "nszp0gMQ3VoC",
        "colab_type": "code",
        "colab": {
          "base_uri": "https://localhost:8080/",
          "height": 34
        },
        "outputId": "5044fbb3-5bbd-4ad7-b11a-bdd5df8b9dea"
      },
      "source": [
        "X_train.shape"
      ],
      "execution_count": null,
      "outputs": [
        {
          "output_type": "execute_result",
          "data": {
            "text/plain": [
              "(106961, 180)"
            ]
          },
          "metadata": {
            "tags": []
          },
          "execution_count": 102
        }
      ]
    },
    {
      "cell_type": "code",
      "metadata": {
        "id": "P7P-PiFJ3VrK",
        "colab_type": "code",
        "colab": {
          "base_uri": "https://localhost:8080/",
          "height": 34
        },
        "outputId": "d8193016-6be2-49b2-8bd1-cc9482678623"
      },
      "source": [
        "y_train.shape"
      ],
      "execution_count": null,
      "outputs": [
        {
          "output_type": "execute_result",
          "data": {
            "text/plain": [
              "(106961,)"
            ]
          },
          "metadata": {
            "tags": []
          },
          "execution_count": 103
        }
      ]
    },
    {
      "cell_type": "code",
      "metadata": {
        "id": "_l8-zTKBhi7n",
        "colab_type": "code",
        "colab": {
          "base_uri": "https://localhost:8080/",
          "height": 34
        },
        "outputId": "abc65db8-6c05-4764-f735-5119a21ae8e3"
      },
      "source": [
        "print(len(X_train[0]))"
      ],
      "execution_count": null,
      "outputs": [
        {
          "output_type": "stream",
          "text": [
            "180\n"
          ],
          "name": "stdout"
        }
      ]
    },
    {
      "cell_type": "code",
      "metadata": {
        "id": "mR_1purVki86",
        "colab_type": "code",
        "colab": {
          "base_uri": "https://localhost:8080/",
          "height": 34
        },
        "outputId": "1a900847-5b35-4dc1-f0d7-c94c7d74597a"
      },
      "source": [
        "len(y_train)"
      ],
      "execution_count": null,
      "outputs": [
        {
          "output_type": "execute_result",
          "data": {
            "text/plain": [
              "106961"
            ]
          },
          "metadata": {
            "tags": []
          },
          "execution_count": 105
        }
      ]
    },
    {
      "cell_type": "code",
      "metadata": {
        "id": "6Uc6GQI_3Vt2",
        "colab_type": "code",
        "colab": {
          "base_uri": "https://localhost:8080/",
          "height": 34
        },
        "outputId": "d99bdfcb-beb0-4f7a-ee15-a06479afa205"
      },
      "source": [
        "(X_train.shape[0], X_train.shape[1], 1)"
      ],
      "execution_count": null,
      "outputs": [
        {
          "output_type": "execute_result",
          "data": {
            "text/plain": [
              "(106961, 180, 1)"
            ]
          },
          "metadata": {
            "tags": []
          },
          "execution_count": 106
        }
      ]
    },
    {
      "cell_type": "code",
      "metadata": {
        "id": "h4aepVGD3VxH",
        "colab_type": "code",
        "colab": {
          "base_uri": "https://localhost:8080/",
          "height": 52
        },
        "outputId": "0dcb660f-f164-4ece-89d3-8e2e2a5a96ec"
      },
      "source": [
        "#make it 3 Dimensional Data - needed for LSTM\n",
        "X_train = np.reshape(X_train, (X_train.shape[0], X_train.shape[1], 1))\n",
        "X_test = np.reshape(X_test, (X_test.shape[0], X_test.shape[1], 1))\n",
        "print(X_train.shape)\n",
        "print(X_test.shape)"
      ],
      "execution_count": null,
      "outputs": [
        {
          "output_type": "stream",
          "text": [
            "(106961, 180, 1)\n",
            "(26606, 180, 1)\n"
          ],
          "name": "stdout"
        }
      ]
    },
    {
      "cell_type": "code",
      "metadata": {
        "id": "96gyZO3V3V6c",
        "colab_type": "code",
        "colab": {
          "base_uri": "https://localhost:8080/",
          "height": 887
        },
        "outputId": "ca51a6bc-6139-46a3-8f30-2af9123600a4"
      },
      "source": [
        "X_test"
      ],
      "execution_count": null,
      "outputs": [
        {
          "output_type": "execute_result",
          "data": {
            "text/plain": [
              "array([[[ 0.09918208],\n",
              "        [ 0.02845858],\n",
              "        [ 0.02845858],\n",
              "        ...,\n",
              "        [ 0.        ],\n",
              "        [ 0.        ],\n",
              "        [ 0.        ]],\n",
              "\n",
              "       [[ 0.02845858],\n",
              "        [ 0.02845858],\n",
              "        [-0.00690317],\n",
              "        ...,\n",
              "        [ 0.        ],\n",
              "        [ 0.        ],\n",
              "        [ 0.        ]],\n",
              "\n",
              "       [[ 0.02845858],\n",
              "        [-0.00690317],\n",
              "        [-0.07762667],\n",
              "        ...,\n",
              "        [ 0.        ],\n",
              "        [ 0.        ],\n",
              "        [ 0.        ]],\n",
              "\n",
              "       ...,\n",
              "\n",
              "       [[-0.14835017],\n",
              "        [-0.21907366],\n",
              "        [-0.28979716],\n",
              "        ...,\n",
              "        [-0.14835017],\n",
              "        [ 0.34671433],\n",
              "        [ 1.76118431]],\n",
              "\n",
              "       [[-0.21907366],\n",
              "        [-0.28979716],\n",
              "        [-0.28979716],\n",
              "        ...,\n",
              "        [ 0.34671433],\n",
              "        [ 1.76118431],\n",
              "        [ 3.1049308 ]],\n",
              "\n",
              "       [[-0.28979716],\n",
              "        [-0.28979716],\n",
              "        [-0.32515891],\n",
              "        ...,\n",
              "        [ 1.76118431],\n",
              "        [ 3.1049308 ],\n",
              "        [ 4.05969803]]])"
            ]
          },
          "metadata": {
            "tags": []
          },
          "execution_count": 108
        }
      ]
    },
    {
      "cell_type": "markdown",
      "metadata": {
        "id": "-IJkJDjOtEpK",
        "colab_type": "text"
      },
      "source": [
        "## Build LSTM Model"
      ]
    },
    {
      "cell_type": "markdown",
      "metadata": {
        "id": "jubM-wKFaDYa",
        "colab_type": "text"
      },
      "source": [
        "# NADAM"
      ]
    },
    {
      "cell_type": "code",
      "metadata": {
        "id": "ev5onqUo3V9e",
        "colab_type": "code",
        "colab": {
          "base_uri": "https://localhost:8080/",
          "height": 54
        },
        "outputId": "bb30e19c-feb2-4205-e7a6-3313ec64162a"
      },
      "source": [
        "# define model\n",
        "tf.keras.backend.clear_session()\n",
        "model = tf.keras.Sequential()\n",
        "model.add(tf.keras.layers.LSTM(512, activation='relu',input_shape=(window_size, 1)))\n",
        "model.add(tf.keras.layers.BatchNormalization())\n",
        "model.add(tf.keras.layers.Dropout(0.25))\n",
        "model.add(tf.keras.layers.Dense(1))\n",
        "model.compile(optimizer='adam', loss='mse')"
      ],
      "execution_count": null,
      "outputs": [
        {
          "output_type": "stream",
          "text": [
            "WARNING:tensorflow:Layer lstm will not use cuDNN kernel since it doesn't meet the cuDNN kernel criteria. It will use generic GPU kernel as fallback when running on GPU\n"
          ],
          "name": "stdout"
        }
      ]
    },
    {
      "cell_type": "code",
      "metadata": {
        "id": "hO6OPZ_n3WAi",
        "colab_type": "code",
        "colab": {
          "base_uri": "https://localhost:8080/",
          "height": 923
        },
        "outputId": "cb6caf88-9535-4d37-de9d-c0a7beb37d73"
      },
      "source": [
        "model.fit(X_train, y_train, epochs=25, validation_data=(X_test, y_test), batch_size=64)"
      ],
      "execution_count": null,
      "outputs": [
        {
          "output_type": "stream",
          "text": [
            "Epoch 1/25\n",
            "1672/1672 [==============================] - 390s 233ms/step - loss: 0.1469 - val_loss: 0.0660\n",
            "Epoch 2/25\n",
            "1672/1672 [==============================] - 392s 235ms/step - loss: 0.1172 - val_loss: 0.0969\n",
            "Epoch 3/25\n",
            "1672/1672 [==============================] - 392s 234ms/step - loss: 0.1143 - val_loss: 0.0634\n",
            "Epoch 4/25\n",
            "1672/1672 [==============================] - 388s 232ms/step - loss: 0.1118 - val_loss: 0.0676\n",
            "Epoch 5/25\n",
            "1672/1672 [==============================] - 387s 232ms/step - loss: 0.1126 - val_loss: 0.0936\n",
            "Epoch 6/25\n",
            "1672/1672 [==============================] - 392s 235ms/step - loss: 0.1114 - val_loss: 0.0622\n",
            "Epoch 7/25\n",
            "1672/1672 [==============================] - 390s 233ms/step - loss: 0.1102 - val_loss: 0.1080\n",
            "Epoch 8/25\n",
            "1672/1672 [==============================] - 392s 234ms/step - loss: 0.1106 - val_loss: 0.0610\n",
            "Epoch 9/25\n",
            "1672/1672 [==============================] - 389s 233ms/step - loss: 0.1072 - val_loss: 0.0626\n",
            "Epoch 10/25\n",
            "1672/1672 [==============================] - 388s 232ms/step - loss: 0.1074 - val_loss: 0.0669\n",
            "Epoch 11/25\n",
            "1672/1672 [==============================] - 392s 235ms/step - loss: 0.1066 - val_loss: 0.0744\n",
            "Epoch 12/25\n",
            "1672/1672 [==============================] - 391s 234ms/step - loss: 0.1078 - val_loss: 0.0586\n",
            "Epoch 13/25\n",
            "1672/1672 [==============================] - 390s 233ms/step - loss: 0.1065 - val_loss: 0.0584\n",
            "Epoch 14/25\n",
            "1672/1672 [==============================] - 388s 232ms/step - loss: 0.1047 - val_loss: 0.0676\n",
            "Epoch 15/25\n",
            "1672/1672 [==============================] - 392s 234ms/step - loss: 0.1022 - val_loss: 0.0623\n",
            "Epoch 16/25\n",
            "1672/1672 [==============================] - 391s 234ms/step - loss: 0.1071 - val_loss: 0.0736\n",
            "Epoch 17/25\n",
            "1672/1672 [==============================] - 389s 233ms/step - loss: 0.1057 - val_loss: 0.0585\n",
            "Epoch 18/25\n",
            "1672/1672 [==============================] - 386s 231ms/step - loss: 0.1034 - val_loss: 0.1252\n",
            "Epoch 19/25\n",
            "1672/1672 [==============================] - 390s 233ms/step - loss: 0.1046 - val_loss: 0.0702\n",
            "Epoch 20/25\n",
            "1672/1672 [==============================] - 391s 234ms/step - loss: 0.1026 - val_loss: 0.0663\n",
            "Epoch 21/25\n",
            "1672/1672 [==============================] - 390s 233ms/step - loss: 0.1040 - val_loss: 0.0670\n",
            "Epoch 22/25\n",
            "1672/1672 [==============================] - 386s 231ms/step - loss: 0.1023 - val_loss: 0.0652\n",
            "Epoch 23/25\n",
            "1672/1672 [==============================] - 387s 231ms/step - loss: 0.1034 - val_loss: 0.0597\n",
            "Epoch 24/25\n",
            "1672/1672 [==============================] - 395s 236ms/step - loss: 0.1029 - val_loss: 0.0584\n",
            "Epoch 25/25\n",
            "1672/1672 [==============================] - 394s 235ms/step - loss: 0.1023 - val_loss: 0.0584\n"
          ],
          "name": "stdout"
        },
        {
          "output_type": "execute_result",
          "data": {
            "text/plain": [
              "<tensorflow.python.keras.callbacks.History at 0x7fc2b4d6b390>"
            ]
          },
          "metadata": {
            "tags": []
          },
          "execution_count": 110
        }
      ]
    },
    {
      "cell_type": "code",
      "metadata": {
        "id": "9KTMkdyu6Oyf",
        "colab_type": "code",
        "colab": {}
      },
      "source": [
        "#Un-normalize the predited data\n",
        "trainPredict = model.predict(X_train)\n",
        "testPredict = model.predict(X_test)"
      ],
      "execution_count": null,
      "outputs": []
    },
    {
      "cell_type": "markdown",
      "metadata": {
        "id": "hgQ97VdSQjY-",
        "colab_type": "text"
      },
      "source": [
        ""
      ]
    },
    {
      "cell_type": "code",
      "metadata": {
        "id": "EZzZvquUCXfG",
        "colab_type": "code",
        "colab": {
          "base_uri": "https://localhost:8080/",
          "height": 34
        },
        "outputId": "90147b26-7552-47fa-a844-c847b3b291ec"
      },
      "source": [
        "rmse = np.sqrt(metrics.mean_squared_error(trainPredict, y_train))\n",
        "rmse"
      ],
      "execution_count": null,
      "outputs": [
        {
          "output_type": "execute_result",
          "data": {
            "text/plain": [
              "0.285843323717964"
            ]
          },
          "metadata": {
            "tags": []
          },
          "execution_count": 112
        }
      ]
    },
    {
      "cell_type": "code",
      "metadata": {
        "id": "jZxWwP8j9o2E",
        "colab_type": "code",
        "colab": {
          "base_uri": "https://localhost:8080/",
          "height": 34
        },
        "outputId": "9358542b-9a39-40ab-daaa-a2ccbc58c322"
      },
      "source": [
        "rmse = np.sqrt(metrics.mean_squared_error(testPredict, y_test))\n",
        "rmse"
      ],
      "execution_count": null,
      "outputs": [
        {
          "output_type": "execute_result",
          "data": {
            "text/plain": [
              "0.24161646917015928"
            ]
          },
          "metadata": {
            "tags": []
          },
          "execution_count": 113
        }
      ]
    },
    {
      "cell_type": "code",
      "metadata": {
        "id": "98zRCnFr6O8M",
        "colab_type": "code",
        "colab": {
          "base_uri": "https://localhost:8080/",
          "height": 34
        },
        "outputId": "b6ab5315-b097-48ff-b69d-9f65e3a7e8d2"
      },
      "source": [
        "from sklearn.metrics import r2_score, mean_squared_error\n",
        "r2 = r2_score(testPredict, y_test)\n",
        "r2"
      ],
      "execution_count": null,
      "outputs": [
        {
          "output_type": "execute_result",
          "data": {
            "text/plain": [
              "0.8779824901732389"
            ]
          },
          "metadata": {
            "tags": []
          },
          "execution_count": 114
        }
      ]
    },
    {
      "cell_type": "code",
      "metadata": {
        "id": "tt-2qq0uD9DW",
        "colab_type": "code",
        "colab": {
          "base_uri": "https://localhost:8080/",
          "height": 34
        },
        "outputId": "cabec287-71f5-424d-8578-c60147ec7aef"
      },
      "source": [
        "r2 = r2_score(trainPredict, y_train)\n",
        "r2"
      ],
      "execution_count": null,
      "outputs": [
        {
          "output_type": "execute_result",
          "data": {
            "text/plain": [
              "0.919085065425566"
            ]
          },
          "metadata": {
            "tags": []
          },
          "execution_count": 115
        }
      ]
    },
    {
      "cell_type": "code",
      "metadata": {
        "id": "_T47PKQ0MVAe",
        "colab_type": "code",
        "colab": {}
      },
      "source": [
        "trainPredict = scaler.inverse_transform(trainPredict)\n",
        "testPredict = scaler.inverse_transform(testPredict)"
      ],
      "execution_count": null,
      "outputs": []
    },
    {
      "cell_type": "code",
      "metadata": {
        "id": "iPQ9R4mO6O4M",
        "colab_type": "code",
        "colab": {
          "base_uri": "https://localhost:8080/",
          "height": 238
        },
        "outputId": "9851b91e-27a0-48a1-a2d4-0a2d43639150"
      },
      "source": [
        "trainPredictPlot = np.empty_like(final_df)\n",
        "trainPredictPlot[:, :] = np.nan\n",
        "trainPredictPlot[window_size:len(trainPredict)+window_size, :] = trainPredict\n",
        "# shift test predictions for plotting\n",
        "testPredictPlot = np.empty_like(scaled)\n",
        "testPredictPlot[:, :] = np.nan\n",
        "testPredictPlot[len(trainPredict)+(window_size*2):len(scaled), :] = testPredict\n",
        "# plot baseline and predictions\n",
        "plt.figure(figsize=(20,10))\n",
        "plt.plot(scaler.inverse_transform(scaled))\n",
        "plt.plot(trainPredictPlot)\n",
        "plt.plot(testPredictPlot)\n",
        "plt.show()"
      ],
      "execution_count": null,
      "outputs": [
        {
          "output_type": "error",
          "ename": "ValueError",
          "evalue": "ignored",
          "traceback": [
            "\u001b[0;31m---------------------------------------------------------------------------\u001b[0m",
            "\u001b[0;31mValueError\u001b[0m                                Traceback (most recent call last)",
            "\u001b[0;32m<ipython-input-117-8c27cd52921d>\u001b[0m in \u001b[0;36m<module>\u001b[0;34m()\u001b[0m\n\u001b[1;32m      1\u001b[0m \u001b[0mtrainPredictPlot\u001b[0m \u001b[0;34m=\u001b[0m \u001b[0mnp\u001b[0m\u001b[0;34m.\u001b[0m\u001b[0mempty_like\u001b[0m\u001b[0;34m(\u001b[0m\u001b[0mfinal_df\u001b[0m\u001b[0;34m)\u001b[0m\u001b[0;34m\u001b[0m\u001b[0;34m\u001b[0m\u001b[0m\n\u001b[1;32m      2\u001b[0m \u001b[0mtrainPredictPlot\u001b[0m\u001b[0;34m[\u001b[0m\u001b[0;34m:\u001b[0m\u001b[0;34m,\u001b[0m \u001b[0;34m:\u001b[0m\u001b[0;34m]\u001b[0m \u001b[0;34m=\u001b[0m \u001b[0mnp\u001b[0m\u001b[0;34m.\u001b[0m\u001b[0mnan\u001b[0m\u001b[0;34m\u001b[0m\u001b[0;34m\u001b[0m\u001b[0m\n\u001b[0;32m----> 3\u001b[0;31m \u001b[0mtrainPredictPlot\u001b[0m\u001b[0;34m[\u001b[0m\u001b[0mwindow_size\u001b[0m\u001b[0;34m:\u001b[0m\u001b[0mlen\u001b[0m\u001b[0;34m(\u001b[0m\u001b[0mtrainPredict\u001b[0m\u001b[0;34m)\u001b[0m\u001b[0;34m+\u001b[0m\u001b[0mwindow_size\u001b[0m\u001b[0;34m,\u001b[0m \u001b[0;34m:\u001b[0m\u001b[0;34m]\u001b[0m \u001b[0;34m=\u001b[0m \u001b[0mtrainPredict\u001b[0m\u001b[0;34m\u001b[0m\u001b[0;34m\u001b[0m\u001b[0m\n\u001b[0m\u001b[1;32m      4\u001b[0m \u001b[0;31m# shift test predictions for plotting\u001b[0m\u001b[0;34m\u001b[0m\u001b[0;34m\u001b[0m\u001b[0;34m\u001b[0m\u001b[0m\n\u001b[1;32m      5\u001b[0m \u001b[0mtestPredictPlot\u001b[0m \u001b[0;34m=\u001b[0m \u001b[0mnp\u001b[0m\u001b[0;34m.\u001b[0m\u001b[0mempty_like\u001b[0m\u001b[0;34m(\u001b[0m\u001b[0mscaled\u001b[0m\u001b[0;34m)\u001b[0m\u001b[0;34m\u001b[0m\u001b[0;34m\u001b[0m\u001b[0m\n",
            "\u001b[0;31mValueError\u001b[0m: could not broadcast input array from shape (106961,1) into shape (102906,1)"
          ]
        }
      ]
    },
    {
      "cell_type": "code",
      "metadata": {
        "id": "-Kuzy3_f6PDc",
        "colab_type": "code",
        "colab": {}
      },
      "source": [
        "# shift train predictions for plotting\n",
        "trainPredictPlot = np.empty_like(train)\n",
        "trainPredictPlot[:, :] = np.nan\n",
        "trainPredictPlot[window_size:len(trainPredict)+window_size, :] = trainPredict\n",
        "plt.figure(figsize=(20,10))\n",
        "plt.plot(scaler.inverse_transform(train))\n",
        "plt.plot(trainPredictPlot)\n",
        "plt.show()"
      ],
      "execution_count": null,
      "outputs": []
    },
    {
      "cell_type": "code",
      "metadata": {
        "id": "L9_7e43xElYO",
        "colab_type": "code",
        "colab": {}
      },
      "source": [
        "# shift test predictions for plotting\n",
        "testPredictPlot = np.empty_like(test)\n",
        "testPredictPlot[:, :] = np.nan\n",
        "testPredictPlot[window_size:, :] = testPredict\n",
        "plt.figure(figsize=(20,10))\n",
        "plt.plot(scaler.inverse_transform(test))\n",
        "plt.plot(testPredictPlot,color='y')\n",
        "plt.show()"
      ],
      "execution_count": null,
      "outputs": []
    },
    {
      "cell_type": "code",
      "metadata": {
        "id": "qOx2VgXJElb0",
        "colab_type": "code",
        "colab": {}
      },
      "source": [
        "  "
      ],
      "execution_count": null,
      "outputs": []
    },
    {
      "cell_type": "code",
      "metadata": {
        "id": "k-el1qtfaMQC",
        "colab_type": "code",
        "colab": {}
      },
      "source": [
        ""
      ],
      "execution_count": null,
      "outputs": []
    },
    {
      "cell_type": "markdown",
      "metadata": {
        "id": "7YuKXB7saMu3",
        "colab_type": "text"
      },
      "source": [
        "# AMSGrad"
      ]
    },
    {
      "cell_type": "code",
      "metadata": {
        "colab_type": "code",
        "id": "yim0NEUaZ_em",
        "colab": {}
      },
      "source": [
        "# define model\n",
        "tf.keras.backend.clear_session()\n",
        "model = tf.keras.Sequential()\n",
        "model.add(tf.keras.layers.LSTM(256, activation='relu',input_shape=(window_size, 1)))\n",
        "model.add(tf.keras.layers.BatchNormalization())\n",
        "model.add(tf.keras.layers.Dropout(0.25))\n",
        "model.add(tf.keras.layers.Dense(1))\n",
        "model.compile(optimizer='Nadam', loss='mse')"
      ],
      "execution_count": null,
      "outputs": []
    },
    {
      "cell_type": "code",
      "metadata": {
        "colab_type": "code",
        "id": "HL3zRbyLZ_e8",
        "colab": {
          "base_uri": "https://localhost:8080/",
          "height": 425
        },
        "outputId": "2f40a8b6-6ed5-4f4a-d335-5bcaa8d3adfc"
      },
      "source": [
        "\n",
        "model.add(tf.keras.layers.LSTM(100, activation='relu',return_sequences=True))\n",
        "model.add(tf.keras.layers.BatchNormalization())\n",
        "model.add(tf.keras.layers.Dropout(0.20))\n",
        "\n",
        "model.add(tf.keras.layers.LSTM(100, activation='relu'))\n",
        "model.add(tf.keras.layers.BatchNormalization())\n",
        "model.add(tf.keras.layers.Dropout(0.30))\n",
        "model.add(tf.keras.layers.Dense(1))"
      ],
      "execution_count": null,
      "outputs": [
        {
          "output_type": "stream",
          "text": [
            "WARNING:tensorflow:Layer lstm_1 will not use cuDNN kernel since it doesn't meet the cuDNN kernel criteria. It will use generic GPU kernel as fallback when running on GPU\n"
          ],
          "name": "stdout"
        },
        {
          "output_type": "error",
          "ename": "ValueError",
          "evalue": "ignored",
          "traceback": [
            "\u001b[0;31m---------------------------------------------------------------------------\u001b[0m",
            "\u001b[0;31mValueError\u001b[0m                                Traceback (most recent call last)",
            "\u001b[0;32m<ipython-input-70-ab2315400d74>\u001b[0m in \u001b[0;36m<module>\u001b[0;34m()\u001b[0m\n\u001b[1;32m      1\u001b[0m \u001b[0;34m\u001b[0m\u001b[0m\n\u001b[0;32m----> 2\u001b[0;31m \u001b[0mmodel\u001b[0m\u001b[0;34m.\u001b[0m\u001b[0madd\u001b[0m\u001b[0;34m(\u001b[0m\u001b[0mtf\u001b[0m\u001b[0;34m.\u001b[0m\u001b[0mkeras\u001b[0m\u001b[0;34m.\u001b[0m\u001b[0mlayers\u001b[0m\u001b[0;34m.\u001b[0m\u001b[0mLSTM\u001b[0m\u001b[0;34m(\u001b[0m\u001b[0;36m100\u001b[0m\u001b[0;34m,\u001b[0m \u001b[0mactivation\u001b[0m\u001b[0;34m=\u001b[0m\u001b[0;34m'relu'\u001b[0m\u001b[0;34m,\u001b[0m\u001b[0mreturn_sequences\u001b[0m\u001b[0;34m=\u001b[0m\u001b[0;32mTrue\u001b[0m\u001b[0;34m)\u001b[0m\u001b[0;34m)\u001b[0m\u001b[0;34m\u001b[0m\u001b[0;34m\u001b[0m\u001b[0m\n\u001b[0m\u001b[1;32m      3\u001b[0m \u001b[0mmodel\u001b[0m\u001b[0;34m.\u001b[0m\u001b[0madd\u001b[0m\u001b[0;34m(\u001b[0m\u001b[0mtf\u001b[0m\u001b[0;34m.\u001b[0m\u001b[0mkeras\u001b[0m\u001b[0;34m.\u001b[0m\u001b[0mlayers\u001b[0m\u001b[0;34m.\u001b[0m\u001b[0mBatchNormalization\u001b[0m\u001b[0;34m(\u001b[0m\u001b[0;34m)\u001b[0m\u001b[0;34m)\u001b[0m\u001b[0;34m\u001b[0m\u001b[0;34m\u001b[0m\u001b[0m\n\u001b[1;32m      4\u001b[0m \u001b[0mmodel\u001b[0m\u001b[0;34m.\u001b[0m\u001b[0madd\u001b[0m\u001b[0;34m(\u001b[0m\u001b[0mtf\u001b[0m\u001b[0;34m.\u001b[0m\u001b[0mkeras\u001b[0m\u001b[0;34m.\u001b[0m\u001b[0mlayers\u001b[0m\u001b[0;34m.\u001b[0m\u001b[0mDropout\u001b[0m\u001b[0;34m(\u001b[0m\u001b[0;36m0.20\u001b[0m\u001b[0;34m)\u001b[0m\u001b[0;34m)\u001b[0m\u001b[0;34m\u001b[0m\u001b[0;34m\u001b[0m\u001b[0m\n\u001b[1;32m      5\u001b[0m \u001b[0;34m\u001b[0m\u001b[0m\n",
            "\u001b[0;32m/usr/local/lib/python3.6/dist-packages/tensorflow/python/training/tracking/base.py\u001b[0m in \u001b[0;36m_method_wrapper\u001b[0;34m(self, *args, **kwargs)\u001b[0m\n\u001b[1;32m    454\u001b[0m     \u001b[0mself\u001b[0m\u001b[0;34m.\u001b[0m\u001b[0m_self_setattr_tracking\u001b[0m \u001b[0;34m=\u001b[0m \u001b[0;32mFalse\u001b[0m  \u001b[0;31m# pylint: disable=protected-access\u001b[0m\u001b[0;34m\u001b[0m\u001b[0;34m\u001b[0m\u001b[0m\n\u001b[1;32m    455\u001b[0m     \u001b[0;32mtry\u001b[0m\u001b[0;34m:\u001b[0m\u001b[0;34m\u001b[0m\u001b[0;34m\u001b[0m\u001b[0m\n\u001b[0;32m--> 456\u001b[0;31m       \u001b[0mresult\u001b[0m \u001b[0;34m=\u001b[0m \u001b[0mmethod\u001b[0m\u001b[0;34m(\u001b[0m\u001b[0mself\u001b[0m\u001b[0;34m,\u001b[0m \u001b[0;34m*\u001b[0m\u001b[0margs\u001b[0m\u001b[0;34m,\u001b[0m \u001b[0;34m**\u001b[0m\u001b[0mkwargs\u001b[0m\u001b[0;34m)\u001b[0m\u001b[0;34m\u001b[0m\u001b[0;34m\u001b[0m\u001b[0m\n\u001b[0m\u001b[1;32m    457\u001b[0m     \u001b[0;32mfinally\u001b[0m\u001b[0;34m:\u001b[0m\u001b[0;34m\u001b[0m\u001b[0;34m\u001b[0m\u001b[0m\n\u001b[1;32m    458\u001b[0m       \u001b[0mself\u001b[0m\u001b[0;34m.\u001b[0m\u001b[0m_self_setattr_tracking\u001b[0m \u001b[0;34m=\u001b[0m \u001b[0mprevious_value\u001b[0m  \u001b[0;31m# pylint: disable=protected-access\u001b[0m\u001b[0;34m\u001b[0m\u001b[0;34m\u001b[0m\u001b[0m\n",
            "\u001b[0;32m/usr/local/lib/python3.6/dist-packages/tensorflow/python/keras/engine/sequential.py\u001b[0m in \u001b[0;36madd\u001b[0;34m(self, layer)\u001b[0m\n\u001b[1;32m    211\u001b[0m       \u001b[0;31m# If the model is being built continuously on top of an input layer:\u001b[0m\u001b[0;34m\u001b[0m\u001b[0;34m\u001b[0m\u001b[0;34m\u001b[0m\u001b[0m\n\u001b[1;32m    212\u001b[0m       \u001b[0;31m# refresh its output.\u001b[0m\u001b[0;34m\u001b[0m\u001b[0;34m\u001b[0m\u001b[0;34m\u001b[0m\u001b[0m\n\u001b[0;32m--> 213\u001b[0;31m       \u001b[0moutput_tensor\u001b[0m \u001b[0;34m=\u001b[0m \u001b[0mlayer\u001b[0m\u001b[0;34m(\u001b[0m\u001b[0mself\u001b[0m\u001b[0;34m.\u001b[0m\u001b[0moutputs\u001b[0m\u001b[0;34m[\u001b[0m\u001b[0;36m0\u001b[0m\u001b[0;34m]\u001b[0m\u001b[0;34m)\u001b[0m\u001b[0;34m\u001b[0m\u001b[0;34m\u001b[0m\u001b[0m\n\u001b[0m\u001b[1;32m    214\u001b[0m       \u001b[0;32mif\u001b[0m \u001b[0mlen\u001b[0m\u001b[0;34m(\u001b[0m\u001b[0mnest\u001b[0m\u001b[0;34m.\u001b[0m\u001b[0mflatten\u001b[0m\u001b[0;34m(\u001b[0m\u001b[0moutput_tensor\u001b[0m\u001b[0;34m)\u001b[0m\u001b[0;34m)\u001b[0m \u001b[0;34m!=\u001b[0m \u001b[0;36m1\u001b[0m\u001b[0;34m:\u001b[0m\u001b[0;34m\u001b[0m\u001b[0;34m\u001b[0m\u001b[0m\n\u001b[1;32m    215\u001b[0m         \u001b[0;32mraise\u001b[0m \u001b[0mValueError\u001b[0m\u001b[0;34m(\u001b[0m\u001b[0mSINGLE_LAYER_OUTPUT_ERROR_MSG\u001b[0m\u001b[0;34m)\u001b[0m\u001b[0;34m\u001b[0m\u001b[0;34m\u001b[0m\u001b[0m\n",
            "\u001b[0;32m/usr/local/lib/python3.6/dist-packages/tensorflow/python/keras/layers/recurrent.py\u001b[0m in \u001b[0;36m__call__\u001b[0;34m(self, inputs, initial_state, constants, **kwargs)\u001b[0m\n\u001b[1;32m    652\u001b[0m \u001b[0;34m\u001b[0m\u001b[0m\n\u001b[1;32m    653\u001b[0m     \u001b[0;32mif\u001b[0m \u001b[0minitial_state\u001b[0m \u001b[0;32mis\u001b[0m \u001b[0;32mNone\u001b[0m \u001b[0;32mand\u001b[0m \u001b[0mconstants\u001b[0m \u001b[0;32mis\u001b[0m \u001b[0;32mNone\u001b[0m\u001b[0;34m:\u001b[0m\u001b[0;34m\u001b[0m\u001b[0;34m\u001b[0m\u001b[0m\n\u001b[0;32m--> 654\u001b[0;31m       \u001b[0;32mreturn\u001b[0m \u001b[0msuper\u001b[0m\u001b[0;34m(\u001b[0m\u001b[0mRNN\u001b[0m\u001b[0;34m,\u001b[0m \u001b[0mself\u001b[0m\u001b[0;34m)\u001b[0m\u001b[0;34m.\u001b[0m\u001b[0m__call__\u001b[0m\u001b[0;34m(\u001b[0m\u001b[0minputs\u001b[0m\u001b[0;34m,\u001b[0m \u001b[0;34m**\u001b[0m\u001b[0mkwargs\u001b[0m\u001b[0;34m)\u001b[0m\u001b[0;34m\u001b[0m\u001b[0;34m\u001b[0m\u001b[0m\n\u001b[0m\u001b[1;32m    655\u001b[0m \u001b[0;34m\u001b[0m\u001b[0m\n\u001b[1;32m    656\u001b[0m     \u001b[0;31m# If any of `initial_state` or `constants` are specified and are Keras\u001b[0m\u001b[0;34m\u001b[0m\u001b[0;34m\u001b[0m\u001b[0;34m\u001b[0m\u001b[0m\n",
            "\u001b[0;32m/usr/local/lib/python3.6/dist-packages/tensorflow/python/keras/engine/base_layer.py\u001b[0m in \u001b[0;36m__call__\u001b[0;34m(self, *args, **kwargs)\u001b[0m\n\u001b[1;32m    884\u001b[0m         \u001b[0;31m# are casted, not before.\u001b[0m\u001b[0;34m\u001b[0m\u001b[0;34m\u001b[0m\u001b[0;34m\u001b[0m\u001b[0m\n\u001b[1;32m    885\u001b[0m         input_spec.assert_input_compatibility(self.input_spec, inputs,\n\u001b[0;32m--> 886\u001b[0;31m                                               self.name)\n\u001b[0m\u001b[1;32m    887\u001b[0m         if (any(isinstance(x, ragged_tensor.RaggedTensor) for x in input_list)\n\u001b[1;32m    888\u001b[0m             and self._supports_ragged_inputs is False):  # pylint: disable=g-bool-id-comparison\n",
            "\u001b[0;32m/usr/local/lib/python3.6/dist-packages/tensorflow/python/keras/engine/input_spec.py\u001b[0m in \u001b[0;36massert_input_compatibility\u001b[0;34m(input_spec, inputs, layer_name)\u001b[0m\n\u001b[1;32m    178\u001b[0m                          \u001b[0;34m'expected ndim='\u001b[0m \u001b[0;34m+\u001b[0m \u001b[0mstr\u001b[0m\u001b[0;34m(\u001b[0m\u001b[0mspec\u001b[0m\u001b[0;34m.\u001b[0m\u001b[0mndim\u001b[0m\u001b[0;34m)\u001b[0m \u001b[0;34m+\u001b[0m \u001b[0;34m', found ndim='\u001b[0m \u001b[0;34m+\u001b[0m\u001b[0;34m\u001b[0m\u001b[0;34m\u001b[0m\u001b[0m\n\u001b[1;32m    179\u001b[0m                          \u001b[0mstr\u001b[0m\u001b[0;34m(\u001b[0m\u001b[0mndim\u001b[0m\u001b[0;34m)\u001b[0m \u001b[0;34m+\u001b[0m \u001b[0;34m'. Full shape received: '\u001b[0m \u001b[0;34m+\u001b[0m\u001b[0;34m\u001b[0m\u001b[0;34m\u001b[0m\u001b[0m\n\u001b[0;32m--> 180\u001b[0;31m                          str(x.shape.as_list()))\n\u001b[0m\u001b[1;32m    181\u001b[0m     \u001b[0;32mif\u001b[0m \u001b[0mspec\u001b[0m\u001b[0;34m.\u001b[0m\u001b[0mmax_ndim\u001b[0m \u001b[0;32mis\u001b[0m \u001b[0;32mnot\u001b[0m \u001b[0;32mNone\u001b[0m\u001b[0;34m:\u001b[0m\u001b[0;34m\u001b[0m\u001b[0;34m\u001b[0m\u001b[0m\n\u001b[1;32m    182\u001b[0m       \u001b[0mndim\u001b[0m \u001b[0;34m=\u001b[0m \u001b[0mx\u001b[0m\u001b[0;34m.\u001b[0m\u001b[0mshape\u001b[0m\u001b[0;34m.\u001b[0m\u001b[0mndims\u001b[0m\u001b[0;34m\u001b[0m\u001b[0;34m\u001b[0m\u001b[0m\n",
            "\u001b[0;31mValueError\u001b[0m: Input 0 of layer lstm_1 is incompatible with the layer: expected ndim=3, found ndim=2. Full shape received: [None, 1]"
          ]
        }
      ]
    },
    {
      "cell_type": "code",
      "metadata": {
        "colab_type": "code",
        "id": "6lO7tzIkZ_fA",
        "colab": {}
      },
      "source": [
        "model.fit(X_train, y_train, epochs=10, validation_data=(X_test, y_test), batch_size=64)"
      ],
      "execution_count": null,
      "outputs": []
    },
    {
      "cell_type": "code",
      "metadata": {
        "colab_type": "code",
        "id": "XjLDNwDOZ_fD",
        "colab": {}
      },
      "source": [
        "#Un-normalize the predited data\n",
        "trainPredict = model.predict(X_train)\n",
        "testPredict = model.predict(X_test)"
      ],
      "execution_count": null,
      "outputs": []
    },
    {
      "cell_type": "code",
      "metadata": {
        "colab_type": "code",
        "id": "0zwofPC9Z_fG",
        "colab": {}
      },
      "source": [
        "rmse = np.sqrt(metrics.mean_squared_error(trainPredict, y_train))\n",
        "rmse"
      ],
      "execution_count": null,
      "outputs": []
    },
    {
      "cell_type": "code",
      "metadata": {
        "colab_type": "code",
        "id": "fNKmKiOTZ_fK",
        "colab": {}
      },
      "source": [
        "rmse = np.sqrt(metrics.mean_squared_error(testPredict, y_test))\n",
        "rmse"
      ],
      "execution_count": null,
      "outputs": []
    },
    {
      "cell_type": "code",
      "metadata": {
        "colab_type": "code",
        "id": "rQApMwYvZ_fS",
        "colab": {}
      },
      "source": [
        "from sklearn.metrics import r2_score, mean_squared_error\n",
        "r2 = r2_score(testPredict, y_test)\n",
        "r2"
      ],
      "execution_count": null,
      "outputs": []
    },
    {
      "cell_type": "code",
      "metadata": {
        "colab_type": "code",
        "id": "dJd4sXozZ_fV",
        "colab": {}
      },
      "source": [
        "r2 = r2_score(trainPredict, y_train)\n",
        "r2"
      ],
      "execution_count": null,
      "outputs": []
    },
    {
      "cell_type": "code",
      "metadata": {
        "colab_type": "code",
        "id": "9ba8HmD-Z_fX",
        "colab": {}
      },
      "source": [
        "trainPredict = scaler.inverse_transform(trainPredict)\n",
        "testPredict = scaler.inverse_transform(testPredict)"
      ],
      "execution_count": null,
      "outputs": []
    },
    {
      "cell_type": "code",
      "metadata": {
        "colab_type": "code",
        "id": "Rts88osSZ_fZ",
        "colab": {}
      },
      "source": [
        "trainPredictPlot = np.empty_like(final_df)\n",
        "trainPredictPlot[:, :] = np.nan\n",
        "trainPredictPlot[window_size:len(trainPredict)+window_size, :] = trainPredict\n",
        "# shift test predictions for plotting\n",
        "testPredictPlot = np.empty_like(scaled)\n",
        "testPredictPlot[:, :] = np.nan\n",
        "testPredictPlot[len(trainPredict)+(window_size*2):len(scaled), :] = testPredict\n",
        "# plot baseline and predictions\n",
        "plt.figure(figsize=(20,10))\n",
        "plt.plot(scaler.inverse_transform(scaled))\n",
        "plt.plot(trainPredictPlot)\n",
        "plt.plot(testPredictPlot)\n",
        "plt.show()"
      ],
      "execution_count": null,
      "outputs": []
    },
    {
      "cell_type": "code",
      "metadata": {
        "colab_type": "code",
        "id": "Ma41aSyMZ_fb",
        "colab": {}
      },
      "source": [
        "# shift train predictions for plotting\n",
        "trainPredictPlot = np.empty_like(train)\n",
        "trainPredictPlot[:, :] = np.nan\n",
        "trainPredictPlot[window_size:len(trainPredict)+window_size, :] = trainPredict\n",
        "plt.figure(figsize=(20,10))\n",
        "plt.plot(scaler.inverse_transform(train))\n",
        "plt.plot(trainPredictPlot)\n",
        "plt.show()"
      ],
      "execution_count": null,
      "outputs": []
    },
    {
      "cell_type": "code",
      "metadata": {
        "colab_type": "code",
        "id": "zVEEQFVuZ_fd",
        "colab": {}
      },
      "source": [
        "# shift test predictions for plotting\n",
        "testPredictPlot = np.empty_like(test)\n",
        "testPredictPlot[:, :] = np.nan\n",
        "testPredictPlot[window_size:, :] = testPredict\n",
        "plt.figure(figsize=(20,10))\n",
        "plt.plot(scaler.inverse_transform(test))\n",
        "plt.plot(testPredictPlot,color='y')\n",
        "plt.show()"
      ],
      "execution_count": null,
      "outputs": []
    },
    {
      "cell_type": "code",
      "metadata": {
        "colab_type": "code",
        "id": "pq0s2QLJZ_fg",
        "colab": {}
      },
      "source": [
        ""
      ],
      "execution_count": null,
      "outputs": []
    },
    {
      "cell_type": "code",
      "metadata": {
        "colab_type": "code",
        "id": "hZrd3YYHZ_fj",
        "colab": {}
      },
      "source": [
        ""
      ],
      "execution_count": null,
      "outputs": []
    },
    {
      "cell_type": "code",
      "metadata": {
        "id": "g1Tb6qAREmAu",
        "colab_type": "code",
        "colab": {}
      },
      "source": [
        ""
      ],
      "execution_count": null,
      "outputs": []
    },
    {
      "cell_type": "code",
      "metadata": {
        "id": "DRxgkm2uEmGK",
        "colab_type": "code",
        "colab": {}
      },
      "source": [
        ""
      ],
      "execution_count": null,
      "outputs": []
    },
    {
      "cell_type": "code",
      "metadata": {
        "id": "4FCwr85zEmOM",
        "colab_type": "code",
        "colab": {}
      },
      "source": [
        ""
      ],
      "execution_count": null,
      "outputs": []
    },
    {
      "cell_type": "code",
      "metadata": {
        "id": "w5JwWYhnEmSK",
        "colab_type": "code",
        "colab": {}
      },
      "source": [
        ""
      ],
      "execution_count": null,
      "outputs": []
    },
    {
      "cell_type": "code",
      "metadata": {
        "id": "zrkBQ4l7EmZh",
        "colab_type": "code",
        "colab": {}
      },
      "source": [
        ""
      ],
      "execution_count": null,
      "outputs": []
    },
    {
      "cell_type": "code",
      "metadata": {
        "id": "sdS75lcPEmdD",
        "colab_type": "code",
        "colab": {}
      },
      "source": [
        ""
      ],
      "execution_count": null,
      "outputs": []
    },
    {
      "cell_type": "code",
      "metadata": {
        "id": "DjvvUbWcEmgO",
        "colab_type": "code",
        "colab": {}
      },
      "source": [
        ""
      ],
      "execution_count": null,
      "outputs": []
    },
    {
      "cell_type": "code",
      "metadata": {
        "id": "VpAtIhxkEmll",
        "colab_type": "code",
        "colab": {}
      },
      "source": [
        ""
      ],
      "execution_count": null,
      "outputs": []
    },
    {
      "cell_type": "code",
      "metadata": {
        "id": "Ss4FhO2tEmox",
        "colab_type": "code",
        "colab": {}
      },
      "source": [
        ""
      ],
      "execution_count": null,
      "outputs": []
    },
    {
      "cell_type": "code",
      "metadata": {
        "id": "NAUZT4_DEmsF",
        "colab_type": "code",
        "colab": {}
      },
      "source": [
        ""
      ],
      "execution_count": null,
      "outputs": []
    },
    {
      "cell_type": "code",
      "metadata": {
        "id": "ek8OQxc-EmxV",
        "colab_type": "code",
        "colab": {}
      },
      "source": [
        ""
      ],
      "execution_count": null,
      "outputs": []
    },
    {
      "cell_type": "code",
      "metadata": {
        "id": "6q-h4eN3Em3i",
        "colab_type": "code",
        "colab": {}
      },
      "source": [
        ""
      ],
      "execution_count": null,
      "outputs": []
    },
    {
      "cell_type": "code",
      "metadata": {
        "id": "OwzaB4GFEm7I",
        "colab_type": "code",
        "colab": {}
      },
      "source": [
        ""
      ],
      "execution_count": null,
      "outputs": []
    },
    {
      "cell_type": "code",
      "metadata": {
        "id": "6XBFNQDUEm-G",
        "colab_type": "code",
        "colab": {}
      },
      "source": [
        ""
      ],
      "execution_count": null,
      "outputs": []
    },
    {
      "cell_type": "code",
      "metadata": {
        "id": "gZAwS6B1EnBy",
        "colab_type": "code",
        "colab": {}
      },
      "source": [
        ""
      ],
      "execution_count": null,
      "outputs": []
    },
    {
      "cell_type": "code",
      "metadata": {
        "id": "1RPF0ABfEm1P",
        "colab_type": "code",
        "colab": {}
      },
      "source": [
        ""
      ],
      "execution_count": null,
      "outputs": []
    },
    {
      "cell_type": "code",
      "metadata": {
        "id": "x9HR5bfKEmvT",
        "colab_type": "code",
        "colab": {}
      },
      "source": [
        ""
      ],
      "execution_count": null,
      "outputs": []
    },
    {
      "cell_type": "code",
      "metadata": {
        "id": "oRoIKswiEmjl",
        "colab_type": "code",
        "colab": {}
      },
      "source": [
        ""
      ],
      "execution_count": null,
      "outputs": []
    },
    {
      "cell_type": "code",
      "metadata": {
        "id": "cQCND_BgEmLW",
        "colab_type": "code",
        "colab": {}
      },
      "source": [
        ""
      ],
      "execution_count": null,
      "outputs": []
    },
    {
      "cell_type": "code",
      "metadata": {
        "id": "7mYdV4aYEmJr",
        "colab_type": "code",
        "colab": {}
      },
      "source": [
        ""
      ],
      "execution_count": null,
      "outputs": []
    },
    {
      "cell_type": "code",
      "metadata": {
        "id": "gOO3P0p7EmDx",
        "colab_type": "code",
        "colab": {}
      },
      "source": [
        ""
      ],
      "execution_count": null,
      "outputs": []
    },
    {
      "cell_type": "code",
      "metadata": {
        "id": "ecxTROEjEl_j",
        "colab_type": "code",
        "colab": {}
      },
      "source": [
        ""
      ],
      "execution_count": null,
      "outputs": []
    },
    {
      "cell_type": "code",
      "metadata": {
        "id": "-MdVUkVJEl8F",
        "colab_type": "code",
        "colab": {}
      },
      "source": [
        ""
      ],
      "execution_count": null,
      "outputs": []
    },
    {
      "cell_type": "code",
      "metadata": {
        "id": "MSYMGwCdEl6u",
        "colab_type": "code",
        "colab": {}
      },
      "source": [
        ""
      ],
      "execution_count": null,
      "outputs": []
    },
    {
      "cell_type": "code",
      "metadata": {
        "id": "tgsoStfrEl3D",
        "colab_type": "code",
        "colab": {}
      },
      "source": [
        ""
      ],
      "execution_count": null,
      "outputs": []
    },
    {
      "cell_type": "markdown",
      "metadata": {
        "id": "4RP3tgvNEpW7",
        "colab_type": "text"
      },
      "source": [
        "# WorkBench"
      ]
    },
    {
      "cell_type": "code",
      "metadata": {
        "id": "hX8p9l2_My8L",
        "colab_type": "code",
        "colab": {}
      },
      "source": [
        "n_input=60\n",
        "n_features=1\n",
        "train_data_gen = tf.keras.preprocessing.sequence.TimeseriesGenerator(train,train,length=n_input,batch_size=32)\n",
        "test_data_gen = tf.keras.preprocessing.sequence.TimeseriesGenerator(train,train,length=n_input,batch_size=32)"
      ],
      "execution_count": null,
      "outputs": []
    },
    {
      "cell_type": "code",
      "metadata": {
        "id": "nGGx9IDJvLEr",
        "colab_type": "code",
        "colab": {
          "base_uri": "https://localhost:8080/",
          "height": 34
        },
        "outputId": "aff1fb96-2f32-44c9-b4ab-76bf62c3e22e"
      },
      "source": [
        "train_data_gen"
      ],
      "execution_count": null,
      "outputs": [
        {
          "output_type": "execute_result",
          "data": {
            "text/plain": [
              "<tensorflow.python.keras.preprocessing.sequence.TimeseriesGenerator at 0x7f9509f0d0f0>"
            ]
          },
          "metadata": {
            "tags": []
          },
          "execution_count": 38
        }
      ]
    },
    {
      "cell_type": "code",
      "metadata": {
        "id": "EMhcjzh9vNIS",
        "colab_type": "code",
        "colab": {
          "base_uri": "https://localhost:8080/",
          "height": 34
        },
        "outputId": "4b5a63df-feb9-4cb7-f439-10c7027646e2"
      },
      "source": [
        "test_data_gen"
      ],
      "execution_count": null,
      "outputs": [
        {
          "output_type": "execute_result",
          "data": {
            "text/plain": [
              "<tensorflow.python.keras.preprocessing.sequence.TimeseriesGenerator at 0x7f9509f0d0b8>"
            ]
          },
          "metadata": {
            "tags": []
          },
          "execution_count": 39
        }
      ]
    },
    {
      "cell_type": "code",
      "metadata": {
        "id": "5v0WQVi18m2w",
        "colab_type": "code",
        "colab": {}
      },
      "source": [
        "# define model\n",
        "model = tf.keras.Sequential()\n",
        "model.add(tf.keras.layers.LSTM(300, activation='relu', input_shape=(n_input, n_features)))\n",
        "model.add(tf.keras.layers.Dropout(0.15))\n",
        "model.add(tf.keras.layers.Dense(1))\n",
        "model.compile(optimizer='adam', loss='mse')"
      ],
      "execution_count": null,
      "outputs": []
    },
    {
      "cell_type": "code",
      "metadata": {
        "id": "1w0tPQLPNmhF",
        "colab_type": "code",
        "colab": {
          "base_uri": "https://localhost:8080/",
          "height": 445
        },
        "outputId": "d09ed8f0-ce9b-45ad-9e31-4889002a73bb"
      },
      "source": [
        "model.fit_generator(train_data_gen,epochs=10)"
      ],
      "execution_count": null,
      "outputs": [
        {
          "output_type": "stream",
          "text": [
            "WARNING:tensorflow:From <ipython-input-42-8893341df921>:1: Model.fit_generator (from tensorflow.python.keras.engine.training) is deprecated and will be removed in a future version.\n",
            "Instructions for updating:\n",
            "Please use Model.fit, which supports generators.\n",
            "Epoch 1/10\n",
            "466/466 [==============================] - 100s 214ms/step - loss: 0.0035\n",
            "Epoch 2/10\n",
            "466/466 [==============================] - 98s 210ms/step - loss: 0.0025\n",
            "Epoch 3/10\n",
            "466/466 [==============================] - 107s 230ms/step - loss: 0.0020\n",
            "Epoch 4/10\n",
            "466/466 [==============================] - 101s 216ms/step - loss: 0.0017\n",
            "Epoch 5/10\n",
            "466/466 [==============================] - 100s 214ms/step - loss: 0.0015\n",
            "Epoch 6/10\n",
            "466/466 [==============================] - 89s 191ms/step - loss: 0.0014\n",
            "Epoch 7/10\n",
            "466/466 [==============================] - 91s 195ms/step - loss: 0.0014\n",
            "Epoch 8/10\n",
            "466/466 [==============================] - 98s 211ms/step - loss: 0.0013\n",
            "Epoch 9/10\n",
            "466/466 [==============================] - 95s 204ms/step - loss: 0.0013\n",
            "Epoch 10/10\n",
            "466/466 [==============================] - 99s 212ms/step - loss: 0.0013\n"
          ],
          "name": "stdout"
        },
        {
          "output_type": "execute_result",
          "data": {
            "text/plain": [
              "<tensorflow.python.keras.callbacks.History at 0x7f95497d74e0>"
            ]
          },
          "metadata": {
            "tags": []
          },
          "execution_count": 42
        }
      ]
    },
    {
      "cell_type": "code",
      "metadata": {
        "id": "vdp06DWwros6",
        "colab_type": "code",
        "colab": {
          "base_uri": "https://localhost:8080/",
          "height": 105
        },
        "outputId": "db6ac6ae-74e8-4824-ac13-80de34798a37"
      },
      "source": [
        "model.evaluate_generator(test_data_gen)"
      ],
      "execution_count": null,
      "outputs": [
        {
          "output_type": "stream",
          "text": [
            "WARNING:tensorflow:From <ipython-input-43-05ae92ec0e40>:1: Model.evaluate_generator (from tensorflow.python.keras.engine.training) is deprecated and will be removed in a future version.\n",
            "Instructions for updating:\n",
            "Please use Model.evaluate, which supports generators.\n"
          ],
          "name": "stdout"
        },
        {
          "output_type": "execute_result",
          "data": {
            "text/plain": [
              "0.001139114610850811"
            ]
          },
          "metadata": {
            "tags": []
          },
          "execution_count": 43
        }
      ]
    },
    {
      "cell_type": "code",
      "metadata": {
        "id": "VW9JfxyB0vCW",
        "colab_type": "code",
        "colab": {
          "base_uri": "https://localhost:8080/",
          "height": 34
        },
        "outputId": "1bfb64e5-4f42-482b-ae4a-cf484993ab2a"
      },
      "source": [
        "model.metrics_names"
      ],
      "execution_count": null,
      "outputs": [
        {
          "output_type": "execute_result",
          "data": {
            "text/plain": [
              "['loss']"
            ]
          },
          "metadata": {
            "tags": []
          },
          "execution_count": 47
        }
      ]
    },
    {
      "cell_type": "code",
      "metadata": {
        "id": "3_pdiw7Yrovx",
        "colab_type": "code",
        "colab": {
          "base_uri": "https://localhost:8080/",
          "height": 88
        },
        "outputId": "32b3f815-8598-4da3-f674-aa84d08f1836"
      },
      "source": [
        "trainPredict = model.predict_generator(train_data_gen)\n",
        "testPredict = model.predict_generator(test_data_gen)"
      ],
      "execution_count": null,
      "outputs": [
        {
          "output_type": "stream",
          "text": [
            "WARNING:tensorflow:From <ipython-input-44-4ad45361b1ee>:1: Model.predict_generator (from tensorflow.python.keras.engine.training) is deprecated and will be removed in a future version.\n",
            "Instructions for updating:\n",
            "Please use Model.predict, which supports generators.\n"
          ],
          "name": "stdout"
        }
      ]
    },
    {
      "cell_type": "code",
      "metadata": {
        "id": "D6E5zEz5yvAk",
        "colab_type": "code",
        "colab": {
          "base_uri": "https://localhost:8080/",
          "height": 34
        },
        "outputId": "3abee48e-c198-4d86-c517-0724d2d71297"
      },
      "source": [
        "trainPredict.shape"
      ],
      "execution_count": null,
      "outputs": [
        {
          "output_type": "execute_result",
          "data": {
            "text/plain": [
              "(14912, 1)"
            ]
          },
          "metadata": {
            "tags": []
          },
          "execution_count": 45
        }
      ]
    },
    {
      "cell_type": "code",
      "metadata": {
        "id": "vtBBk8lt0cgA",
        "colab_type": "code",
        "colab": {
          "base_uri": "https://localhost:8080/",
          "height": 34
        },
        "outputId": "00366955-1049-4633-8cf2-7d802004d3a7"
      },
      "source": [
        "testPredict.shape"
      ],
      "execution_count": null,
      "outputs": [
        {
          "output_type": "execute_result",
          "data": {
            "text/plain": [
              "(14912, 1)"
            ]
          },
          "metadata": {
            "tags": []
          },
          "execution_count": 46
        }
      ]
    },
    {
      "cell_type": "code",
      "metadata": {
        "id": "euK9D3VYroyW",
        "colab_type": "code",
        "colab": {}
      },
      "source": [
        "trainPredict = scaler.inverse_transform(trainPredict)\n",
        "testPredict = scaler.inverse_transform(testPredict)"
      ],
      "execution_count": null,
      "outputs": []
    },
    {
      "cell_type": "code",
      "metadata": {
        "id": "BukV9E6xytI8",
        "colab_type": "code",
        "colab": {}
      },
      "source": [
        ""
      ],
      "execution_count": null,
      "outputs": []
    },
    {
      "cell_type": "code",
      "metadata": {
        "id": "H_V1X2Ybro7m",
        "colab_type": "code",
        "colab": {}
      },
      "source": [
        "trainPredictPlot = np.empty_like(scaled)\n",
        "trainPredictPlot[:, :] = np.nan\n",
        "trainPredictPlot[window_size:len(trainPredict)+window_size, :] = trainPredict\n",
        "# shift test predictions for plotting\n",
        "testPredictPlot = np.empty_like(scaled)\n",
        "testPredictPlot[:, :] = np.nan\n",
        "testPredictPlot[len(trainPredict)+(n_input*2):len(scaled), :] = testPredict\n",
        "# plot baseline and predictions\n",
        "plt.figure(figsize=(20,10))\n",
        "plt.plot(scaler.inverse_transform(scaled))\n",
        "plt.plot(trainPredictPlot)\n",
        "plt.plot(testPredictPlot)\n",
        "plt.show()"
      ],
      "execution_count": null,
      "outputs": []
    },
    {
      "cell_type": "code",
      "metadata": {
        "id": "TPfMjsf6ro-I",
        "colab_type": "code",
        "colab": {}
      },
      "source": [
        ""
      ],
      "execution_count": null,
      "outputs": []
    },
    {
      "cell_type": "code",
      "metadata": {
        "id": "sfd02MYDrpA1",
        "colab_type": "code",
        "colab": {}
      },
      "source": [
        ""
      ],
      "execution_count": null,
      "outputs": []
    },
    {
      "cell_type": "code",
      "metadata": {
        "id": "DKTv1j1lrpDk",
        "colab_type": "code",
        "colab": {}
      },
      "source": [
        ""
      ],
      "execution_count": null,
      "outputs": []
    },
    {
      "cell_type": "code",
      "metadata": {
        "id": "q2Qy6cMHrpKA",
        "colab_type": "code",
        "colab": {}
      },
      "source": [
        ""
      ],
      "execution_count": null,
      "outputs": []
    },
    {
      "cell_type": "code",
      "metadata": {
        "id": "0_lOFG0_rpMp",
        "colab_type": "code",
        "colab": {}
      },
      "source": [
        ""
      ],
      "execution_count": null,
      "outputs": []
    },
    {
      "cell_type": "code",
      "metadata": {
        "id": "rEndwQ0HrpPb",
        "colab_type": "code",
        "colab": {}
      },
      "source": [
        ""
      ],
      "execution_count": null,
      "outputs": []
    },
    {
      "cell_type": "code",
      "metadata": {
        "id": "HKBwSYEErpTV",
        "colab_type": "code",
        "colab": {}
      },
      "source": [
        ""
      ],
      "execution_count": null,
      "outputs": []
    },
    {
      "cell_type": "code",
      "metadata": {
        "id": "Mkkt5EGfrpWD",
        "colab_type": "code",
        "colab": {}
      },
      "source": [
        ""
      ],
      "execution_count": null,
      "outputs": []
    },
    {
      "cell_type": "code",
      "metadata": {
        "id": "5eEjTlperpHL",
        "colab_type": "code",
        "colab": {}
      },
      "source": [
        ""
      ],
      "execution_count": null,
      "outputs": []
    },
    {
      "cell_type": "code",
      "metadata": {
        "id": "CB7zLspcQbOH",
        "colab_type": "code",
        "colab": {}
      },
      "source": [
        "pred_list=[]\n",
        "\n",
        "batch = train[-n_input:].reshape((1,n_input,n_features))\n",
        "\n",
        "for i in range(n_input):\n",
        "    pred_list.append(model.predict(batch)[0])\n",
        "    batch=np.append(batch[:,1:,:],[[pred_list[i]]],axis=1)"
      ],
      "execution_count": null,
      "outputs": []
    },
    {
      "cell_type": "code",
      "metadata": {
        "id": "uMFbYHnGXKAc",
        "colab_type": "code",
        "colab": {}
      },
      "source": [
        "df_predict = pd.DataFrame(scaler.inverse_transform(pred_list),index=final_df[-n_input:].index,columns=['Pred_temp'])\n",
        "\n",
        "df_test = pd.concat([final_df,df_predict],axis=1)"
      ],
      "execution_count": null,
      "outputs": []
    },
    {
      "cell_type": "code",
      "metadata": {
        "id": "qP0TfNJBYBoT",
        "colab_type": "code",
        "colab": {
          "base_uri": "https://localhost:8080/",
          "height": 450
        },
        "outputId": "b5491ad5-c0fb-4462-daac-8e1edcec5b8e"
      },
      "source": [
        "df_test.tail(80)"
      ],
      "execution_count": null,
      "outputs": [
        {
          "output_type": "execute_result",
          "data": {
            "text/html": [
              "<div>\n",
              "<style scoped>\n",
              "    .dataframe tbody tr th:only-of-type {\n",
              "        vertical-align: middle;\n",
              "    }\n",
              "\n",
              "    .dataframe tbody tr th {\n",
              "        vertical-align: top;\n",
              "    }\n",
              "\n",
              "    .dataframe thead th {\n",
              "        text-align: right;\n",
              "    }\n",
              "</style>\n",
              "<table border=\"1\" class=\"dataframe\">\n",
              "  <thead>\n",
              "    <tr style=\"text-align: right;\">\n",
              "      <th></th>\n",
              "      <th>Temp_F</th>\n",
              "      <th>Pred_temp</th>\n",
              "    </tr>\n",
              "    <tr>\n",
              "      <th>Date_Time</th>\n",
              "      <th></th>\n",
              "      <th></th>\n",
              "    </tr>\n",
              "  </thead>\n",
              "  <tbody>\n",
              "    <tr>\n",
              "      <th>2020-02-06 07:25:00</th>\n",
              "      <td>38.9</td>\n",
              "      <td>NaN</td>\n",
              "    </tr>\n",
              "    <tr>\n",
              "      <th>2020-02-06 07:30:00</th>\n",
              "      <td>40.2</td>\n",
              "      <td>NaN</td>\n",
              "    </tr>\n",
              "    <tr>\n",
              "      <th>2020-02-06 07:35:00</th>\n",
              "      <td>40.3</td>\n",
              "      <td>NaN</td>\n",
              "    </tr>\n",
              "    <tr>\n",
              "      <th>2020-02-06 07:40:00</th>\n",
              "      <td>39.8</td>\n",
              "      <td>NaN</td>\n",
              "    </tr>\n",
              "    <tr>\n",
              "      <th>2020-02-06 07:45:00</th>\n",
              "      <td>39.5</td>\n",
              "      <td>NaN</td>\n",
              "    </tr>\n",
              "    <tr>\n",
              "      <th>...</th>\n",
              "      <td>...</td>\n",
              "      <td>...</td>\n",
              "    </tr>\n",
              "    <tr>\n",
              "      <th>2020-02-06 13:40:00</th>\n",
              "      <td>37.1</td>\n",
              "      <td>39.467779</td>\n",
              "    </tr>\n",
              "    <tr>\n",
              "      <th>2020-02-06 13:45:00</th>\n",
              "      <td>37.8</td>\n",
              "      <td>39.467880</td>\n",
              "    </tr>\n",
              "    <tr>\n",
              "      <th>2020-02-06 13:50:00</th>\n",
              "      <td>38.8</td>\n",
              "      <td>39.467889</td>\n",
              "    </tr>\n",
              "    <tr>\n",
              "      <th>2020-02-06 13:55:00</th>\n",
              "      <td>44.8</td>\n",
              "      <td>39.467821</td>\n",
              "    </tr>\n",
              "    <tr>\n",
              "      <th>2020-02-06 14:00:00</th>\n",
              "      <td>53.8</td>\n",
              "      <td>39.467726</td>\n",
              "    </tr>\n",
              "  </tbody>\n",
              "</table>\n",
              "<p>80 rows × 2 columns</p>\n",
              "</div>"
            ],
            "text/plain": [
              "                     Temp_F  Pred_temp\n",
              "Date_Time                             \n",
              "2020-02-06 07:25:00    38.9        NaN\n",
              "2020-02-06 07:30:00    40.2        NaN\n",
              "2020-02-06 07:35:00    40.3        NaN\n",
              "2020-02-06 07:40:00    39.8        NaN\n",
              "2020-02-06 07:45:00    39.5        NaN\n",
              "...                     ...        ...\n",
              "2020-02-06 13:40:00    37.1  39.467779\n",
              "2020-02-06 13:45:00    37.8  39.467880\n",
              "2020-02-06 13:50:00    38.8  39.467889\n",
              "2020-02-06 13:55:00    44.8  39.467821\n",
              "2020-02-06 14:00:00    53.8  39.467726\n",
              "\n",
              "[80 rows x 2 columns]"
            ]
          },
          "metadata": {
            "tags": []
          },
          "execution_count": 58
        }
      ]
    },
    {
      "cell_type": "code",
      "metadata": {
        "id": "23uNJKWWYZLR",
        "colab_type": "code",
        "colab": {
          "base_uri": "https://localhost:8080/",
          "height": 84
        },
        "outputId": "40426487-9bca-4fd7-cdfc-d6992adb7734"
      },
      "source": [
        "plt.figure(figsize=(100,5))\n",
        "plt.plot(df_test.index,df_test['Temp_F'])\n",
        "plt.plot(df_test.index,df_test['Pred_temp'],color='r')\n",
        "plt.show()"
      ],
      "execution_count": null,
      "outputs": [
        {
          "output_type": "display_data",
          "data": {
            "image/png": "[encoded data removed]",
            "text/plain": [
              "<Figure size 7200x360 with 1 Axes>"
            ]
          },
          "metadata": {
            "tags": [],
            "needs_background": "light"
          }
        }
      ]
    },
    {
      "cell_type": "code",
      "metadata": {
        "id": "1ZEjq5di9dsF",
        "colab_type": "code",
        "colab": {}
      },
      "source": [
        ""
      ],
      "execution_count": null,
      "outputs": []
    },
    {
      "cell_type": "code",
      "metadata": {
        "id": "YsonFHwMgi55",
        "colab_type": "code",
        "colab": {}
      },
      "source": [
        "from pandas.tseries.offsets import DateOffset\n",
        "add_dates=[final_df.index[-1]_DateOffset(minutes=5) for x in range(0,60)]\n",
        "future_dates=pd.DataFrame(index=add_dates[1:],columns=final_df.columns)"
      ],
      "execution_count": null,
      "outputs": []
    },
    {
      "cell_type": "code",
      "metadata": {
        "id": "zBQTc-RCglM4",
        "colab_type": "code",
        "colab": {}
      },
      "source": [
        "future_dates.tail()"
      ],
      "execution_count": null,
      "outputs": []
    }
  ]
}